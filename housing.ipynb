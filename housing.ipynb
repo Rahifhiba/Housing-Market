{
 "cells": [
  {
   "cell_type": "code",
   "execution_count": 2,
   "metadata": {
    "vscode": {
     "languageId": "r"
    }
   },
   "outputs": [],
   "source": [
    "# install.packages(c(\"ggplot2\", \"dplyr\",\"car\"))"
   ]
  },
  {
   "cell_type": "code",
   "execution_count": 3,
   "metadata": {
    "vscode": {
     "languageId": "r"
    }
   },
   "outputs": [
    {
     "name": "stderr",
     "output_type": "stream",
     "text": [
      "Warning message:\n",
      "\"le package 'ggplot2' a été compilé avec la version R 4.3.3\"\n",
      "Warning message:\n",
      "\"le package 'dplyr' a été compilé avec la version R 4.3.3\"\n",
      "\n",
      "Attachement du package : 'dplyr'\n",
      "\n",
      "\n",
      "Les objets suivants sont masqués depuis 'package:stats':\n",
      "\n",
      "    filter, lag\n",
      "\n",
      "\n",
      "Les objets suivants sont masqués depuis 'package:base':\n",
      "\n",
      "    intersect, setdiff, setequal, union\n",
      "\n",
      "\n",
      "Warning message:\n",
      "\"le package 'car' a été compilé avec la version R 4.3.3\"\n",
      "Le chargement a nécessité le package : carData\n",
      "\n",
      "Warning message:\n",
      "\"le package 'carData' a été compilé avec la version R 4.3.3\"\n",
      "\n",
      "Attachement du package : 'car'\n",
      "\n",
      "\n",
      "L'objet suivant est masqué depuis 'package:dplyr':\n",
      "\n",
      "    recode\n",
      "\n",
      "\n",
      "Warning message:\n",
      "\"le package 'reshape2' a été compilé avec la version R 4.3.3\"\n"
     ]
    }
   ],
   "source": [
    "library(ggplot2)\n",
    "library(dplyr)\n",
    "library(car)\n",
    "library(reshape2)"
   ]
  },
  {
   "cell_type": "markdown",
   "metadata": {},
   "source": [
    "# Part 1 - Data analysis"
   ]
  },
  {
   "cell_type": "markdown",
   "metadata": {},
   "source": [
    "## 1. Load data"
   ]
  },
  {
   "cell_type": "code",
   "execution_count": 4,
   "metadata": {
    "vscode": {
     "languageId": "r"
    }
   },
   "outputs": [
    {
     "data": {
      "text/html": [
       "<table class=\"dataframe\">\n",
       "<caption>A data.frame: 5 × 5</caption>\n",
       "<thead>\n",
       "\t<tr><th></th><th scope=col>Crime.Rate</th><th scope=col>Average.Rooms</th><th scope=col>Public.Transport.Access</th><th scope=col>Number.of.Schools</th><th scope=col>Median.Home.Value</th></tr>\n",
       "\t<tr><th></th><th scope=col>&lt;dbl&gt;</th><th scope=col>&lt;dbl&gt;</th><th scope=col>&lt;int&gt;</th><th scope=col>&lt;int&gt;</th><th scope=col>&lt;dbl&gt;</th></tr>\n",
       "</thead>\n",
       "<tbody>\n",
       "\t<tr><th scope=row>1</th><td>      NA</td><td>5.585324</td><td>10</td><td>3</td><td>47.90077</td></tr>\n",
       "\t<tr><th scope=row>2</th><td>2.654339</td><td>5.395206</td><td> 3</td><td>6</td><td>41.53910</td></tr>\n",
       "\t<tr><th scope=row>3</th><td>4.619221</td><td>6.033965</td><td> 9</td><td>4</td><td>48.51757</td></tr>\n",
       "\t<tr><th scope=row>4</th><td>6.807575</td><td>5.418335</td><td>10</td><td>5</td><td>42.50757</td></tr>\n",
       "\t<tr><th scope=row>5</th><td>2.414617</td><td>6.189320</td><td> 2</td><td>4</td><td>51.39125</td></tr>\n",
       "</tbody>\n",
       "</table>\n"
      ],
      "text/latex": [
       "A data.frame: 5 × 5\n",
       "\\begin{tabular}{r|lllll}\n",
       "  & Crime.Rate & Average.Rooms & Public.Transport.Access & Number.of.Schools & Median.Home.Value\\\\\n",
       "  & <dbl> & <dbl> & <int> & <int> & <dbl>\\\\\n",
       "\\hline\n",
       "\t1 &       NA & 5.585324 & 10 & 3 & 47.90077\\\\\n",
       "\t2 & 2.654339 & 5.395206 &  3 & 6 & 41.53910\\\\\n",
       "\t3 & 4.619221 & 6.033965 &  9 & 4 & 48.51757\\\\\n",
       "\t4 & 6.807575 & 5.418335 & 10 & 5 & 42.50757\\\\\n",
       "\t5 & 2.414617 & 6.189320 &  2 & 4 & 51.39125\\\\\n",
       "\\end{tabular}\n"
      ],
      "text/markdown": [
       "\n",
       "A data.frame: 5 × 5\n",
       "\n",
       "| <!--/--> | Crime.Rate &lt;dbl&gt; | Average.Rooms &lt;dbl&gt; | Public.Transport.Access &lt;int&gt; | Number.of.Schools &lt;int&gt; | Median.Home.Value &lt;dbl&gt; |\n",
       "|---|---|---|---|---|---|\n",
       "| 1 |       NA | 5.585324 | 10 | 3 | 47.90077 |\n",
       "| 2 | 2.654339 | 5.395206 |  3 | 6 | 41.53910 |\n",
       "| 3 | 4.619221 | 6.033965 |  9 | 4 | 48.51757 |\n",
       "| 4 | 6.807575 | 5.418335 | 10 | 5 | 42.50757 |\n",
       "| 5 | 2.414617 | 6.189320 |  2 | 4 | 51.39125 |\n",
       "\n"
      ],
      "text/plain": [
       "  Crime.Rate Average.Rooms Public.Transport.Access Number.of.Schools\n",
       "1       NA   5.585324      10                      3                \n",
       "2 2.654339   5.395206       3                      6                \n",
       "3 4.619221   6.033965       9                      4                \n",
       "4 6.807575   5.418335      10                      5                \n",
       "5 2.414617   6.189320       2                      4                \n",
       "  Median.Home.Value\n",
       "1 47.90077         \n",
       "2 41.53910         \n",
       "3 48.51757         \n",
       "4 42.50757         \n",
       "5 51.39125         "
      ]
     },
     "metadata": {},
     "output_type": "display_data"
    }
   ],
   "source": [
    "data <- read.csv(\"housing_data.csv\")\n",
    "head(data, 5)"
   ]
  },
  {
   "cell_type": "markdown",
   "metadata": {},
   "source": [
    "## 2. Summary statistics\n"
   ]
  },
  {
   "cell_type": "code",
   "execution_count": 5,
   "metadata": {
    "vscode": {
     "languageId": "r"
    }
   },
   "outputs": [
    {
     "name": "stdout",
     "output_type": "stream",
     "text": [
      "Summary: "
     ]
    },
    {
     "data": {
      "text/plain": [
       "   Crime.Rate        Average.Rooms   Public.Transport.Access Number.of.Schools\n",
       " Min.   : 0.005305   Min.   :4.112   Min.   : 1.000          Min.   : 0.000   \n",
       " 1st Qu.: 1.299938   1st Qu.:5.598   1st Qu.: 3.000          1st Qu.: 4.000   \n",
       " Median : 3.031481   Median :6.033   Median : 5.000          Median : 5.000   \n",
       " Mean   : 3.137415   Mean   :6.026   Mean   : 5.421          Mean   : 4.992   \n",
       " 3rd Qu.: 4.584798   3rd Qu.:6.460   3rd Qu.: 8.000          3rd Qu.: 6.000   \n",
       " Max.   :12.631829   Max.   :7.801   Max.   :10.000          Max.   :10.000   \n",
       " NA's   :25          NA's   :15                                               \n",
       " Median.Home.Value\n",
       " Min.   :31.55    \n",
       " 1st Qu.:43.23    \n",
       " Median :46.91    \n",
       " Mean   :47.10    \n",
       " 3rd Qu.:50.85    \n",
       " Max.   :62.56    \n",
       "                  "
      ]
     },
     "metadata": {},
     "output_type": "display_data"
    }
   ],
   "source": [
    "# cat(\"Structur of data:\\n\\n\")\n",
    "# str(data)\n",
    "# cat(\"\\n-------------------------------------------------\\n\")\n",
    "cat(\"Summary: \")\n",
    "summary(data)"
   ]
  },
  {
   "cell_type": "code",
   "execution_count": 6,
   "metadata": {
    "vscode": {
     "languageId": "r"
    }
   },
   "outputs": [
    {
     "data": {
      "text/html": [
       "<table class=\"dataframe\">\n",
       "<caption>A data.frame: 6 × 5</caption>\n",
       "<thead>\n",
       "\t<tr><th></th><th scope=col>Crime.Rate</th><th scope=col>Average.Rooms</th><th scope=col>Public.Transport.Access</th><th scope=col>Number.of.Schools</th><th scope=col>Median.Home.Value</th></tr>\n",
       "\t<tr><th></th><th scope=col>&lt;dbl&gt;</th><th scope=col>&lt;dbl&gt;</th><th scope=col>&lt;int&gt;</th><th scope=col>&lt;int&gt;</th><th scope=col>&lt;dbl&gt;</th></tr>\n",
       "</thead>\n",
       "<tbody>\n",
       "\t<tr><th scope=row>501</th><td>5.315444</td><td>6.626635</td><td>9</td><td>4</td><td>51.99554</td></tr>\n",
       "\t<tr><th scope=row>502</th><td>      NA</td><td>6.444620</td><td>4</td><td>6</td><td>53.57924</td></tr>\n",
       "\t<tr><th scope=row>503</th><td>0.100000</td><td>6.734687</td><td>4</td><td>3</td><td>49.65183</td></tr>\n",
       "\t<tr><th scope=row>504</th><td>4.407423</td><td>5.625335</td><td>2</td><td>1</td><td>43.67766</td></tr>\n",
       "\t<tr><th scope=row>505</th><td>1.373394</td><td>6.922176</td><td>6</td><td>3</td><td>50.66238</td></tr>\n",
       "\t<tr><th scope=row>506</th><td>1.782187</td><td>6.138320</td><td>2</td><td>4</td><td>45.43800</td></tr>\n",
       "</tbody>\n",
       "</table>\n"
      ],
      "text/latex": [
       "A data.frame: 6 × 5\n",
       "\\begin{tabular}{r|lllll}\n",
       "  & Crime.Rate & Average.Rooms & Public.Transport.Access & Number.of.Schools & Median.Home.Value\\\\\n",
       "  & <dbl> & <dbl> & <int> & <int> & <dbl>\\\\\n",
       "\\hline\n",
       "\t501 & 5.315444 & 6.626635 & 9 & 4 & 51.99554\\\\\n",
       "\t502 &       NA & 6.444620 & 4 & 6 & 53.57924\\\\\n",
       "\t503 & 0.100000 & 6.734687 & 4 & 3 & 49.65183\\\\\n",
       "\t504 & 4.407423 & 5.625335 & 2 & 1 & 43.67766\\\\\n",
       "\t505 & 1.373394 & 6.922176 & 6 & 3 & 50.66238\\\\\n",
       "\t506 & 1.782187 & 6.138320 & 2 & 4 & 45.43800\\\\\n",
       "\\end{tabular}\n"
      ],
      "text/markdown": [
       "\n",
       "A data.frame: 6 × 5\n",
       "\n",
       "| <!--/--> | Crime.Rate &lt;dbl&gt; | Average.Rooms &lt;dbl&gt; | Public.Transport.Access &lt;int&gt; | Number.of.Schools &lt;int&gt; | Median.Home.Value &lt;dbl&gt; |\n",
       "|---|---|---|---|---|---|\n",
       "| 501 | 5.315444 | 6.626635 | 9 | 4 | 51.99554 |\n",
       "| 502 |       NA | 6.444620 | 4 | 6 | 53.57924 |\n",
       "| 503 | 0.100000 | 6.734687 | 4 | 3 | 49.65183 |\n",
       "| 504 | 4.407423 | 5.625335 | 2 | 1 | 43.67766 |\n",
       "| 505 | 1.373394 | 6.922176 | 6 | 3 | 50.66238 |\n",
       "| 506 | 1.782187 | 6.138320 | 2 | 4 | 45.43800 |\n",
       "\n"
      ],
      "text/plain": [
       "    Crime.Rate Average.Rooms Public.Transport.Access Number.of.Schools\n",
       "501 5.315444   6.626635      9                       4                \n",
       "502       NA   6.444620      4                       6                \n",
       "503 0.100000   6.734687      4                       3                \n",
       "504 4.407423   5.625335      2                       1                \n",
       "505 1.373394   6.922176      6                       3                \n",
       "506 1.782187   6.138320      2                       4                \n",
       "    Median.Home.Value\n",
       "501 51.99554         \n",
       "502 53.57924         \n",
       "503 49.65183         \n",
       "504 43.67766         \n",
       "505 50.66238         \n",
       "506 45.43800         "
      ]
     },
     "metadata": {},
     "output_type": "display_data"
    }
   ],
   "source": [
    "tail(data)"
   ]
  },
  {
   "cell_type": "markdown",
   "metadata": {},
   "source": [
    "## 3. Get mean, mode and median, as well as the standard deviation for each variable"
   ]
  },
  {
   "cell_type": "markdown",
   "metadata": {},
   "source": [
    "**Mean**"
   ]
  },
  {
   "cell_type": "code",
   "execution_count": 7,
   "metadata": {
    "vscode": {
     "languageId": "r"
    }
   },
   "outputs": [
    {
     "name": "stdout",
     "output_type": "stream",
     "text": [
      "Mean of Crime.Rate : 3.13741457390437 \n",
      "Mean of Average.Rooms : 6.02573705745418 \n",
      "Mean of Public.Transport.Access : 5.42094861660079 \n",
      "Mean of Number.of.Schools : 4.99209486166008 \n",
      "Mean of Median.Home.Value : 47.1035584244862 \n"
     ]
    }
   ],
   "source": [
    "means <- function(df, column) {\n",
    "    mean_value <- mean(df[[column]], na.rm = TRUE)\n",
    "    return(mean_value)\n",
    "}\n",
    "\n",
    "for (col in colnames(data)) {\n",
    "    cat(paste(\"Mean of\", col, \":\", means(data, col), \"\\n\"))\n",
    "}\n"
   ]
  },
  {
   "cell_type": "markdown",
   "metadata": {},
   "source": [
    "**Mode**\n"
   ]
  },
  {
   "cell_type": "code",
   "execution_count": 8,
   "metadata": {
    "vscode": {
     "languageId": "r"
    }
   },
   "outputs": [
    {
     "name": "stdout",
     "output_type": "stream",
     "text": [
      "Mode of Crime.Rate : 0.1 \n",
      "Mode of Average.Rooms : NA \n",
      "Mode of Public.Transport.Access : 2 \n",
      "Mode of Number.of.Schools : 5 \n",
      "Mode of Median.Home.Value : 47.90076602 \n"
     ]
    }
   ],
   "source": [
    "mode <- function(df, column) {\n",
    "    unique <- unique(df[[column]])\n",
    "    mode_value <- unique[which.max(tabulate(match(df[[column]], unique)))]\n",
    "    return(mode_value)\n",
    "}\n",
    "\n",
    "for (col in colnames(data)) {\n",
    "    cat(paste(\"Mode of\", col, \":\", mode(data, col), \"\\n\"))\n",
    "}"
   ]
  },
  {
   "cell_type": "markdown",
   "metadata": {},
   "source": [
    "**Median**"
   ]
  },
  {
   "cell_type": "code",
   "execution_count": null,
   "metadata": {
    "vscode": {
     "languageId": "r"
    }
   },
   "outputs": [],
   "source": [
    "median_value <- function(df, column) {\n",
    "  med <- median(df[[column]], na.rm = TRUE)\n",
    "  return(med)\n",
    "}\n",
    "\n",
    "for (col in colnames(data)) {\n",
    "  cat(paste(\"Median of\", col, \":\", median_value(data, col), \"\\n\"))\n",
    "}"
   ]
  },
  {
   "cell_type": "markdown",
   "metadata": {},
   "source": [
    "### 4. Compute the correlation between each pair of variables\n"
   ]
  },
  {
   "cell_type": "code",
   "execution_count": null,
   "metadata": {
    "vscode": {
     "languageId": "r"
    }
   },
   "outputs": [],
   "source": [
    "corr_matrix <- cor(data, use = \"pairwise.complete.obs\")\n",
    "corr_matrix"
   ]
  },
  {
   "cell_type": "code",
   "execution_count": null,
   "metadata": {
    "vscode": {
     "languageId": "r"
    }
   },
   "outputs": [],
   "source": [
    "high_corr <- which(corr_matrix == max(corr_matrix[corr_matrix < 1]), arr.ind=TRUE)\n",
    "print(high_corr)\n",
    "cat(paste(\"The highest correlation is between columns: \",colnames(corr_matrix)[high_corr][1],\" and \",colnames(corr_matrix)[high_corr][2]))\n"
   ]
  },
  {
   "cell_type": "code",
   "execution_count": null,
   "metadata": {
    "vscode": {
     "languageId": "r"
    }
   },
   "outputs": [],
   "source": [
    "cat(\"Na values: \\n\")\n",
    "cat(paste(\"\\nCrime.Rate:\", colSums(is.na(data[\"Crime.Rate\"]))))\n",
    "cat(paste(\"\\nAverage.Rooms:\", colSums(is.na(data[\"Average.Rooms\"]))))\n",
    "cat(paste(\"\\nPublic.Transport.Access:\", colSums(is.na(data[\"Public.Transport.Access\"]))))\n",
    "cat(paste(\"\\nNumber.of.Schools:\", colSums(is.na(data[\"Number.of.Schools\"]))))\n",
    "cat(paste(\"\\nMedian.Home.Value:\", colSums(is.na(data[\"Median.Home.Value\"]))))\n",
    "\n",
    "# colSums(is.na(data))\n"
   ]
  },
  {
   "cell_type": "code",
   "execution_count": null,
   "metadata": {
    "vscode": {
     "languageId": "r"
    }
   },
   "outputs": [],
   "source": [
    "data_cleaned <- data %>% mutate_all(~ifelse(is.na(.), median(., na.rm = TRUE), .))\n",
    "data_cleaned"
   ]
  },
  {
   "cell_type": "code",
   "execution_count": null,
   "metadata": {
    "vscode": {
     "languageId": "r"
    }
   },
   "outputs": [],
   "source": [
    "cat(\"Na values after filling missing values: \\n\")\n",
    "cat(paste(\"\\nCrime.Rate:\", colSums(is.na(data_cleaned[\"Crime.Rate\"]))))\n",
    "cat(paste(\"\\nAverage.Rooms:\", colSums(is.na(data_cleaned[\"Average.Rooms\"]))))\n",
    "cat(paste(\"\\nPublic.Transport.Access:\", colSums(is.na(data_cleaned[\"Public.Transport.Access\"]))))\n",
    "cat(paste(\"\\nNumber.of.Schools:\", colSums(is.na(data_cleaned[\"Number.of.Schools\"]))))\n",
    "cat(paste(\"\\nMedian.Home.Value:\", colSums(is.na(data_cleaned[\"Median.Home.Value\"]))))\n"
   ]
  },
  {
   "cell_type": "markdown",
   "metadata": {},
   "source": [
    "# Part 2 - Data visualization\n",
    "## Create a histogram of house prices with styling and 8 bins"
   ]
  },
  {
   "cell_type": "code",
   "execution_count": null,
   "metadata": {
    "vscode": {
     "languageId": "r"
    }
   },
   "outputs": [],
   "source": [
    "ggplot(data_cleaned, aes(x = Median.Home.Value)) +\n",
    "    geom_histogram(bins= 9, Fill = \"darkcyan\",Color = \"white\",Alpha = 0.7  ) +\n",
    "    labs(title = \"Distribution of Median Home Values\", x= \"Median home values\", y= \"Frequency\") +\n",
    "    theme_minimal()\n"
   ]
  },
  {
   "cell_type": "markdown",
   "metadata": {
    "vscode": {
     "languageId": "r"
    }
   },
   "source": [
    "# Part 3 - Hypothesis testing\n",
    "## 1. Define \"high\" and \"low\" crime rates based on the median of the Crime.Rate variable\n"
   ]
  },
  {
   "cell_type": "code",
   "execution_count": null,
   "metadata": {
    "vscode": {
     "languageId": "r"
    }
   },
   "outputs": [],
   "source": [
    "high_low_crimerate <- function(x){\n",
    "    median_crimerate <- median(data_cleaned$Crime.Rate)\n",
    "    if (x > median_crimerate){\n",
    "        return(\"High\")\n",
    "    }\n",
    "    else {\n",
    "       return(\"Low\")\n",
    "    }\n",
    "}"
   ]
  },
  {
   "cell_type": "code",
   "execution_count": null,
   "metadata": {
    "vscode": {
     "languageId": "r"
    }
   },
   "outputs": [],
   "source": [
    "data_cleaned$Crime.category <- sapply(data_cleaned$Crime.Rate, high_low_crimerate)\n",
    "data_cleaned"
   ]
  },
  {
   "cell_type": "markdown",
   "metadata": {},
   "source": [
    "## 2. Additional: Check for assumptions\n",
    "### For a t-test, it's essential to check for normality & homogeneity of variance.\n"
   ]
  },
  {
   "cell_type": "code",
   "execution_count": null,
   "metadata": {
    "vscode": {
     "languageId": "r"
    }
   },
   "outputs": [],
   "source": [
    "# t_test_result <- t.test(variable ~ group, data = data_cleaned, var.equal = TRUE)\n",
    "# t_test_result\n",
    "# # levene_test <- leveneTest(Median.Home.Value ~ Crime.Category, data = data_cleaned)\n",
    "# # print(levene_test)\n",
    "\n",
    "levene_test <- leveneTest(Median.Home.Value ~ Crime.Category, data = data_cleaned)\n",
    "print(levene_test)\n",
    "\n",
    "t_test_result <- t.test(Median.Home.Value ~ Crime.Category, data = data_cleaned, var.equal = TRUE)\n",
    "print(t_test_result)"
   ]
  },
  {
   "cell_type": "code",
   "execution_count": null,
   "metadata": {
    "vscode": {
     "languageId": "r"
    }
   },
   "outputs": [],
   "source": []
  }
 ],
 "metadata": {
  "kernelspec": {
   "display_name": "R",
   "language": "R",
   "name": "ir"
  },
  "language_info": {
   "codemirror_mode": "r",
   "file_extension": ".r",
   "mimetype": "text/x-r-source",
   "name": "R",
   "pygments_lexer": "r",
   "version": "4.3.2"
  }
 },
 "nbformat": 4,
 "nbformat_minor": 2
}
