{
 "cells": [
  {
   "cell_type": "code",
   "execution_count": 2,
   "metadata": {
    "vscode": {
     "languageId": "r"
    }
   },
   "outputs": [
    {
     "name": "stderr",
     "output_type": "stream",
     "text": [
      "Warning message:\n",
      "\"les packages 'ggplot2', 'dplyr' sont en cours d'utilisation et ne seront pas installés\"\n",
      "Installation du package dans 'C:/Users/dell/AppData/Local/R/win-library/4.3'\n",
      "(car 'lib' n'est pas spécifié)\n",
      "\n",
      "installation de la dépendance 'carData'\n",
      "\n",
      "\n"
     ]
    },
    {
     "name": "stdout",
     "output_type": "stream",
     "text": [
      "le package 'carData' a été décompressé et les sommes MD5 ont été vérifiées avec succés\n",
      "le package 'car' a été décompressé et les sommes MD5 ont été vérifiées avec succés\n",
      "\n",
      "Les packages binaires téléchargés sont dans\n",
      "\tC:\\Users\\dell\\AppData\\Local\\Temp\\RtmpEP7u0h\\downloaded_packages\n"
     ]
    }
   ],
   "source": [
    "install.packages(c(\"ggplot2\", \"dplyr\",\"car\"))"
   ]
  },
  {
   "cell_type": "code",
   "execution_count": 3,
   "metadata": {
    "vscode": {
     "languageId": "r"
    }
   },
   "outputs": [
    {
     "name": "stderr",
     "output_type": "stream",
     "text": [
      "Warning message:\n",
      "\"le package 'car' a été compilé avec la version R 4.3.3\"\n",
      "Le chargement a nécessité le package : carData\n",
      "\n",
      "Warning message:\n",
      "\"le package 'carData' a été compilé avec la version R 4.3.3\"\n"
     ]
    },
    {
     "name": "stderr",
     "output_type": "stream",
     "text": [
      "\n",
      "Attachement du package : 'car'\n",
      "\n",
      "\n",
      "L'objet suivant est masqué depuis 'package:dplyr':\n",
      "\n",
      "    recode\n",
      "\n",
      "\n"
     ]
    }
   ],
   "source": [
    "library(ggplot2)\n",
    "library(dplyr)\n",
    "library(car)"
   ]
  },
  {
   "cell_type": "markdown",
   "metadata": {},
   "source": [
    "# Load data"
   ]
  },
  {
   "cell_type": "code",
   "execution_count": 9,
   "metadata": {
    "vscode": {
     "languageId": "r"
    }
   },
   "outputs": [
    {
     "data": {
      "text/html": [
       "<table class=\"dataframe\">\n",
       "<caption>A data.frame: 5 × 5</caption>\n",
       "<thead>\n",
       "\t<tr><th></th><th scope=col>Crime.Rate</th><th scope=col>Average.Rooms</th><th scope=col>Public.Transport.Access</th><th scope=col>Number.of.Schools</th><th scope=col>Median.Home.Value</th></tr>\n",
       "\t<tr><th></th><th scope=col>&lt;dbl&gt;</th><th scope=col>&lt;dbl&gt;</th><th scope=col>&lt;int&gt;</th><th scope=col>&lt;int&gt;</th><th scope=col>&lt;dbl&gt;</th></tr>\n",
       "</thead>\n",
       "<tbody>\n",
       "\t<tr><th scope=row>1</th><td>      NA</td><td>5.585324</td><td>10</td><td>3</td><td>47.90077</td></tr>\n",
       "\t<tr><th scope=row>2</th><td>2.654339</td><td>5.395206</td><td> 3</td><td>6</td><td>41.53910</td></tr>\n",
       "\t<tr><th scope=row>3</th><td>4.619221</td><td>6.033965</td><td> 9</td><td>4</td><td>48.51757</td></tr>\n",
       "\t<tr><th scope=row>4</th><td>6.807575</td><td>5.418335</td><td>10</td><td>5</td><td>42.50757</td></tr>\n",
       "\t<tr><th scope=row>5</th><td>2.414617</td><td>6.189320</td><td> 2</td><td>4</td><td>51.39125</td></tr>\n",
       "</tbody>\n",
       "</table>\n"
      ],
      "text/latex": [
       "A data.frame: 5 × 5\n",
       "\\begin{tabular}{r|lllll}\n",
       "  & Crime.Rate & Average.Rooms & Public.Transport.Access & Number.of.Schools & Median.Home.Value\\\\\n",
       "  & <dbl> & <dbl> & <int> & <int> & <dbl>\\\\\n",
       "\\hline\n",
       "\t1 &       NA & 5.585324 & 10 & 3 & 47.90077\\\\\n",
       "\t2 & 2.654339 & 5.395206 &  3 & 6 & 41.53910\\\\\n",
       "\t3 & 4.619221 & 6.033965 &  9 & 4 & 48.51757\\\\\n",
       "\t4 & 6.807575 & 5.418335 & 10 & 5 & 42.50757\\\\\n",
       "\t5 & 2.414617 & 6.189320 &  2 & 4 & 51.39125\\\\\n",
       "\\end{tabular}\n"
      ],
      "text/markdown": [
       "\n",
       "A data.frame: 5 × 5\n",
       "\n",
       "| <!--/--> | Crime.Rate &lt;dbl&gt; | Average.Rooms &lt;dbl&gt; | Public.Transport.Access &lt;int&gt; | Number.of.Schools &lt;int&gt; | Median.Home.Value &lt;dbl&gt; |\n",
       "|---|---|---|---|---|---|\n",
       "| 1 |       NA | 5.585324 | 10 | 3 | 47.90077 |\n",
       "| 2 | 2.654339 | 5.395206 |  3 | 6 | 41.53910 |\n",
       "| 3 | 4.619221 | 6.033965 |  9 | 4 | 48.51757 |\n",
       "| 4 | 6.807575 | 5.418335 | 10 | 5 | 42.50757 |\n",
       "| 5 | 2.414617 | 6.189320 |  2 | 4 | 51.39125 |\n",
       "\n"
      ],
      "text/plain": [
       "  Crime.Rate Average.Rooms Public.Transport.Access Number.of.Schools\n",
       "1       NA   5.585324      10                      3                \n",
       "2 2.654339   5.395206       3                      6                \n",
       "3 4.619221   6.033965       9                      4                \n",
       "4 6.807575   5.418335      10                      5                \n",
       "5 2.414617   6.189320       2                      4                \n",
       "  Median.Home.Value\n",
       "1 47.90077         \n",
       "2 41.53910         \n",
       "3 48.51757         \n",
       "4 42.50757         \n",
       "5 51.39125         "
      ]
     },
     "metadata": {},
     "output_type": "display_data"
    }
   ],
   "source": [
    "data <- read.csv(\"housing_data.csv\")\n",
    "head(data, 5)"
   ]
  },
  {
   "cell_type": "code",
   "execution_count": 10,
   "metadata": {
    "vscode": {
     "languageId": "r"
    }
   },
   "outputs": [
    {
     "name": "stdout",
     "output_type": "stream",
     "text": [
      "  Crime.Rate_mean Crime.Rate_median Crime.Rate_mode Average.Rooms_mean\n",
      "1        3.137415          3.031481             0.1           6.025737\n",
      "  Average.Rooms_median Average.Rooms_mode Public.Transport.Access_mean\n",
      "1             6.033179                 NA                     5.420949\n",
      "  Public.Transport.Access_median Public.Transport.Access_mode\n",
      "1                              5                            2\n",
      "  Number.of.Schools_mean Number.of.Schools_median Number.of.Schools_mode\n",
      "1               4.992095                        5                      5\n",
      "  Median.Home.Value_mean Median.Home.Value_median Median.Home.Value_mode\n",
      "1               47.10356                 46.91257               47.90077\n"
     ]
    }
   ],
   "source": [
    "get_mode <- function(v) {\n",
    "  uniq_v <- unique(v)\n",
    "  uniq_v[which.max(tabulate(match(v, uniq_v)))]\n",
    "}\n",
    "\n",
    "descriptive_stats <- data %>%\n",
    "  summarise(across(everything(), list(\n",
    "    mean = ~mean(.x, na.rm = TRUE),\n",
    "    median = ~median(.x, na.rm = TRUE),\n",
    "    mode = ~get_mode(.x)\n",
    "  )))\n",
    "\n",
    "print(descriptive_stats)\n"
   ]
  },
  {
   "cell_type": "markdown",
   "metadata": {},
   "source": [
    "# Explore data"
   ]
  },
  {
   "cell_type": "markdown",
   "metadata": {},
   "source": [
    "### 1- description of dataset"
   ]
  },
  {
   "cell_type": "code",
   "execution_count": 29,
   "metadata": {
    "vscode": {
     "languageId": "r"
    }
   },
   "outputs": [
    {
     "name": "stdout",
     "output_type": "stream",
     "text": [
      "Structur of data:\n",
      "\n",
      "'data.frame':\t506 obs. of  5 variables:\n",
      " $ Crime.Rate             : num  NA 2.65 4.62 6.81 2.41 ...\n",
      " $ Average.Rooms          : num  5.59 5.4 6.03 5.42 6.19 ...\n",
      " $ Public.Transport.Access: int  10 3 9 10 2 6 7 9 3 10 ...\n",
      " $ Number.of.Schools      : int  3 6 4 5 4 4 4 4 6 4 ...\n",
      " $ Median.Home.Value      : num  47.9 41.5 48.5 42.5 51.4 ...\n",
      "\n",
      "-------------------------------------------------\n",
      "Summary: "
     ]
    },
    {
     "data": {
      "text/plain": [
       "   Crime.Rate        Average.Rooms   Public.Transport.Access Number.of.Schools\n",
       " Min.   : 0.005305   Min.   :4.112   Min.   : 1.000          Min.   : 0.000   \n",
       " 1st Qu.: 1.299938   1st Qu.:5.598   1st Qu.: 3.000          1st Qu.: 4.000   \n",
       " Median : 3.031481   Median :6.033   Median : 5.000          Median : 5.000   \n",
       " Mean   : 3.137415   Mean   :6.026   Mean   : 5.421          Mean   : 4.992   \n",
       " 3rd Qu.: 4.584798   3rd Qu.:6.460   3rd Qu.: 8.000          3rd Qu.: 6.000   \n",
       " Max.   :12.631829   Max.   :7.801   Max.   :10.000          Max.   :10.000   \n",
       " NA's   :25          NA's   :15                                               \n",
       " Median.Home.Value\n",
       " Min.   :31.55    \n",
       " 1st Qu.:43.23    \n",
       " Median :46.91    \n",
       " Mean   :47.10    \n",
       " 3rd Qu.:50.85    \n",
       " Max.   :62.56    \n",
       "                  "
      ]
     },
     "metadata": {},
     "output_type": "display_data"
    }
   ],
   "source": [
    "cat(\"Structur of data:\\n\\n\")\n",
    "str(data)\n",
    "cat(\"\\n-------------------------------------------------\\n\")\n",
    "cat(\"Summary: \")\n",
    "summary(data)"
   ]
  },
  {
   "cell_type": "code",
   "execution_count": 46,
   "metadata": {
    "vscode": {
     "languageId": "r"
    }
   },
   "outputs": [
    {
     "name": "stdout",
     "output_type": "stream",
     "text": [
      "Na values: \n",
      "\n",
      "Crime.Rate: 25\n",
      "Average.Rooms: 15\n",
      "Public.Transport.Access: 0\n",
      "Number.of.Schools: 0\n",
      "Median.Home.Value: 0"
     ]
    }
   ],
   "source": [
    "cat(\"Na values: \\n\")\n",
    "cat(paste(\"\\nCrime.Rate:\", colSums(is.na(data[\"Crime.Rate\"]))))\n",
    "cat(paste(\"\\nAverage.Rooms:\", colSums(is.na(data[\"Average.Rooms\"]))))\n",
    "cat(paste(\"\\nPublic.Transport.Access:\", colSums(is.na(data[\"Public.Transport.Access\"]))))\n",
    "cat(paste(\"\\nNumber.of.Schools:\", colSums(is.na(data[\"Number.of.Schools\"]))))\n",
    "cat(paste(\"\\nMedian.Home.Value:\", colSums(is.na(data[\"Median.Home.Value\"]))))\n",
    "\n",
    "# colSums(is.na(data))\n"
   ]
  },
  {
   "cell_type": "code",
   "execution_count": 48,
   "metadata": {
    "vscode": {
     "languageId": "r"
    }
   },
   "outputs": [
    {
     "data": {
      "text/html": [
       "<table class=\"dataframe\">\n",
       "<caption>A data.frame: 5 × 11</caption>\n",
       "<thead>\n",
       "\t<tr><th></th><th scope=col>Crime.Rate_mean</th><th scope=col>Crime.Rate_median</th><th scope=col>Average.Rooms_mean</th><th scope=col>Average.Rooms_median</th><th scope=col>Public.Transport.Access_mean</th><th scope=col>Public.Transport.Access_median</th><th scope=col>Number.of.Schools_mean</th><th scope=col>Number.of.Schools_median</th><th scope=col>Median.Home.Value_mean</th><th scope=col>Median.Home.Value_median</th><th scope=col>mode</th></tr>\n",
       "\t<tr><th></th><th scope=col>&lt;dbl&gt;</th><th scope=col>&lt;dbl&gt;</th><th scope=col>&lt;dbl&gt;</th><th scope=col>&lt;dbl&gt;</th><th scope=col>&lt;dbl&gt;</th><th scope=col>&lt;dbl&gt;</th><th scope=col>&lt;dbl&gt;</th><th scope=col>&lt;dbl&gt;</th><th scope=col>&lt;dbl&gt;</th><th scope=col>&lt;dbl&gt;</th><th scope=col>&lt;dbl&gt;</th></tr>\n",
       "</thead>\n",
       "<tbody>\n",
       "\t<tr><th scope=row>Crime.Rate</th><td>3.137415</td><td>3.031481</td><td>6.025737</td><td>6.033179</td><td>5.420949</td><td>5</td><td>4.992095</td><td>5</td><td>47.10356</td><td>46.91257</td><td> 0.10000</td></tr>\n",
       "\t<tr><th scope=row>Average.Rooms</th><td>3.137415</td><td>3.031481</td><td>6.025737</td><td>6.033179</td><td>5.420949</td><td>5</td><td>4.992095</td><td>5</td><td>47.10356</td><td>46.91257</td><td>      NA</td></tr>\n",
       "\t<tr><th scope=row>Public.Transport.Access</th><td>3.137415</td><td>3.031481</td><td>6.025737</td><td>6.033179</td><td>5.420949</td><td>5</td><td>4.992095</td><td>5</td><td>47.10356</td><td>46.91257</td><td> 2.00000</td></tr>\n",
       "\t<tr><th scope=row>Number.of.Schools</th><td>3.137415</td><td>3.031481</td><td>6.025737</td><td>6.033179</td><td>5.420949</td><td>5</td><td>4.992095</td><td>5</td><td>47.10356</td><td>46.91257</td><td> 5.00000</td></tr>\n",
       "\t<tr><th scope=row>Median.Home.Value</th><td>3.137415</td><td>3.031481</td><td>6.025737</td><td>6.033179</td><td>5.420949</td><td>5</td><td>4.992095</td><td>5</td><td>47.10356</td><td>46.91257</td><td>47.90077</td></tr>\n",
       "</tbody>\n",
       "</table>\n"
      ],
      "text/latex": [
       "A data.frame: 5 × 11\n",
       "\\begin{tabular}{r|lllllllllll}\n",
       "  & Crime.Rate\\_mean & Crime.Rate\\_median & Average.Rooms\\_mean & Average.Rooms\\_median & Public.Transport.Access\\_mean & Public.Transport.Access\\_median & Number.of.Schools\\_mean & Number.of.Schools\\_median & Median.Home.Value\\_mean & Median.Home.Value\\_median & mode\\\\\n",
       "  & <dbl> & <dbl> & <dbl> & <dbl> & <dbl> & <dbl> & <dbl> & <dbl> & <dbl> & <dbl> & <dbl>\\\\\n",
       "\\hline\n",
       "\tCrime.Rate & 3.137415 & 3.031481 & 6.025737 & 6.033179 & 5.420949 & 5 & 4.992095 & 5 & 47.10356 & 46.91257 &  0.10000\\\\\n",
       "\tAverage.Rooms & 3.137415 & 3.031481 & 6.025737 & 6.033179 & 5.420949 & 5 & 4.992095 & 5 & 47.10356 & 46.91257 &       NA\\\\\n",
       "\tPublic.Transport.Access & 3.137415 & 3.031481 & 6.025737 & 6.033179 & 5.420949 & 5 & 4.992095 & 5 & 47.10356 & 46.91257 &  2.00000\\\\\n",
       "\tNumber.of.Schools & 3.137415 & 3.031481 & 6.025737 & 6.033179 & 5.420949 & 5 & 4.992095 & 5 & 47.10356 & 46.91257 &  5.00000\\\\\n",
       "\tMedian.Home.Value & 3.137415 & 3.031481 & 6.025737 & 6.033179 & 5.420949 & 5 & 4.992095 & 5 & 47.10356 & 46.91257 & 47.90077\\\\\n",
       "\\end{tabular}\n"
      ],
      "text/markdown": [
       "\n",
       "A data.frame: 5 × 11\n",
       "\n",
       "| <!--/--> | Crime.Rate_mean &lt;dbl&gt; | Crime.Rate_median &lt;dbl&gt; | Average.Rooms_mean &lt;dbl&gt; | Average.Rooms_median &lt;dbl&gt; | Public.Transport.Access_mean &lt;dbl&gt; | Public.Transport.Access_median &lt;dbl&gt; | Number.of.Schools_mean &lt;dbl&gt; | Number.of.Schools_median &lt;dbl&gt; | Median.Home.Value_mean &lt;dbl&gt; | Median.Home.Value_median &lt;dbl&gt; | mode &lt;dbl&gt; |\n",
       "|---|---|---|---|---|---|---|---|---|---|---|---|\n",
       "| Crime.Rate | 3.137415 | 3.031481 | 6.025737 | 6.033179 | 5.420949 | 5 | 4.992095 | 5 | 47.10356 | 46.91257 |  0.10000 |\n",
       "| Average.Rooms | 3.137415 | 3.031481 | 6.025737 | 6.033179 | 5.420949 | 5 | 4.992095 | 5 | 47.10356 | 46.91257 |       NA |\n",
       "| Public.Transport.Access | 3.137415 | 3.031481 | 6.025737 | 6.033179 | 5.420949 | 5 | 4.992095 | 5 | 47.10356 | 46.91257 |  2.00000 |\n",
       "| Number.of.Schools | 3.137415 | 3.031481 | 6.025737 | 6.033179 | 5.420949 | 5 | 4.992095 | 5 | 47.10356 | 46.91257 |  5.00000 |\n",
       "| Median.Home.Value | 3.137415 | 3.031481 | 6.025737 | 6.033179 | 5.420949 | 5 | 4.992095 | 5 | 47.10356 | 46.91257 | 47.90077 |\n",
       "\n"
      ],
      "text/plain": [
       "                        Crime.Rate_mean Crime.Rate_median Average.Rooms_mean\n",
       "Crime.Rate              3.137415        3.031481          6.025737          \n",
       "Average.Rooms           3.137415        3.031481          6.025737          \n",
       "Public.Transport.Access 3.137415        3.031481          6.025737          \n",
       "Number.of.Schools       3.137415        3.031481          6.025737          \n",
       "Median.Home.Value       3.137415        3.031481          6.025737          \n",
       "                        Average.Rooms_median Public.Transport.Access_mean\n",
       "Crime.Rate              6.033179             5.420949                    \n",
       "Average.Rooms           6.033179             5.420949                    \n",
       "Public.Transport.Access 6.033179             5.420949                    \n",
       "Number.of.Schools       6.033179             5.420949                    \n",
       "Median.Home.Value       6.033179             5.420949                    \n",
       "                        Public.Transport.Access_median Number.of.Schools_mean\n",
       "Crime.Rate              5                              4.992095              \n",
       "Average.Rooms           5                              4.992095              \n",
       "Public.Transport.Access 5                              4.992095              \n",
       "Number.of.Schools       5                              4.992095              \n",
       "Median.Home.Value       5                              4.992095              \n",
       "                        Number.of.Schools_median Median.Home.Value_mean\n",
       "Crime.Rate              5                        47.10356              \n",
       "Average.Rooms           5                        47.10356              \n",
       "Public.Transport.Access 5                        47.10356              \n",
       "Number.of.Schools       5                        47.10356              \n",
       "Median.Home.Value       5                        47.10356              \n",
       "                        Median.Home.Value_median mode    \n",
       "Crime.Rate              46.91257                  0.10000\n",
       "Average.Rooms           46.91257                       NA\n",
       "Public.Transport.Access 46.91257                  2.00000\n",
       "Number.of.Schools       46.91257                  5.00000\n",
       "Median.Home.Value       46.91257                 47.90077"
      ]
     },
     "metadata": {},
     "output_type": "display_data"
    }
   ],
   "source": [
    "descriptive_stats <- data %>%\n",
    "  summarise(across(everything(), list(\n",
    "    mean = ~mean(., na.rm = TRUE),\n",
    "    median = ~median(., na.rm = TRUE)\n",
    "  )))\n",
    "\n",
    "get_mode <- function(v) {\n",
    "  unique_v <- unique(v)\n",
    "  unique_v[which.max(tabulate(match(v, unique_v)))]\n",
    "}\n",
    "\n",
    "modes <- sapply(data, get_mode)\n",
    "\n",
    "descriptive_stats <- cbind(descriptive_stats, mode = modes)\n",
    "\n",
    "descriptive_stats\n"
   ]
  },
  {
   "cell_type": "code",
   "execution_count": 49,
   "metadata": {
    "vscode": {
     "languageId": "r"
    }
   },
   "outputs": [
    {
     "name": "stdout",
     "output_type": "stream",
     "text": [
      "                        Crime.Rate Average.Rooms Public.Transport.Access\n",
      "Crime.Rate              1.00000000   0.109411375            0.0115047832\n",
      "Average.Rooms           0.10941138   1.000000000           -0.0074220520\n",
      "Public.Transport.Access 0.01150478  -0.007422052            1.0000000000\n",
      "Number.of.Schools       0.02507977  -0.008113311            0.0145962817\n",
      "Median.Home.Value       0.08793696   0.889669524            0.0009097478\n",
      "                        Number.of.Schools Median.Home.Value\n",
      "Crime.Rate                    0.025079768      0.0879369585\n",
      "Average.Rooms                -0.008113311      0.8896695239\n",
      "Public.Transport.Access       0.014596282      0.0009097478\n",
      "Number.of.Schools             1.000000000     -0.0072444918\n",
      "Median.Home.Value            -0.007244492      1.0000000000\n"
     ]
    }
   ],
   "source": [
    "# Compute correlations (ignoring NA values)\n",
    "cor_matrix <- cor(data, use = \"pairwise.complete.obs\")\n",
    "\n",
    "# Print correlation matrix\n",
    "print(cor_matrix)\n"
   ]
  },
  {
   "cell_type": "code",
   "execution_count": null,
   "metadata": {
    "vscode": {
     "languageId": "r"
    }
   },
   "outputs": [],
   "source": []
  }
 ],
 "metadata": {
  "kernelspec": {
   "display_name": "R",
   "language": "R",
   "name": "ir"
  },
  "language_info": {
   "codemirror_mode": "r",
   "file_extension": ".r",
   "mimetype": "text/x-r-source",
   "name": "R",
   "pygments_lexer": "r",
   "version": "4.3.2"
  }
 },
 "nbformat": 4,
 "nbformat_minor": 2
}
