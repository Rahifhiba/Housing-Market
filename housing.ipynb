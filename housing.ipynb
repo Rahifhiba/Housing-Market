{
 "cells": [
  {
   "cell_type": "code",
   "execution_count": 3,
   "metadata": {
    "vscode": {
     "languageId": "r"
    }
   },
   "outputs": [],
   "source": [
    "# install.packages(c(\"ggplot2\", \"dplyr\",\"car\", \"ggcorrplot\"))"
   ]
  },
  {
   "cell_type": "code",
   "execution_count": 4,
   "metadata": {
    "vscode": {
     "languageId": "r"
    }
   },
   "outputs": [
    {
     "name": "stderr",
     "output_type": "stream",
     "text": [
      "Warning message:\n",
      "\"le package 'ggplot2' a été compilé avec la version R 4.3.3\"\n",
      "Warning message:\n",
      "\"le package 'ggcorrplot' a été compilé avec la version R 4.3.3\"\n",
      "Warning message:\n",
      "\"le package 'dplyr' a été compilé avec la version R 4.3.3\"\n",
      "\n",
      "Attachement du package : 'dplyr'\n",
      "\n",
      "\n"
     ]
    },
    {
     "name": "stderr",
     "output_type": "stream",
     "text": [
      "Les objets suivants sont masqués depuis 'package:stats':\n",
      "\n",
      "    filter, lag\n",
      "\n",
      "\n",
      "Les objets suivants sont masqués depuis 'package:base':\n",
      "\n",
      "    intersect, setdiff, setequal, union\n",
      "\n",
      "\n",
      "Warning message:\n",
      "\"le package 'car' a été compilé avec la version R 4.3.3\"\n",
      "Le chargement a nécessité le package : carData\n",
      "\n",
      "Warning message:\n",
      "\"le package 'carData' a été compilé avec la version R 4.3.3\"\n",
      "\n",
      "Attachement du package : 'car'\n",
      "\n",
      "\n",
      "L'objet suivant est masqué depuis 'package:dplyr':\n",
      "\n",
      "    recode\n",
      "\n",
      "\n"
     ]
    }
   ],
   "source": [
    "library(ggplot2)\n",
    "library(ggcorrplot)\n",
    "library(dplyr)\n",
    "library(car)"
   ]
  },
  {
   "cell_type": "markdown",
   "metadata": {},
   "source": [
    "# Part 1 - Data analysis"
   ]
  },
  {
   "cell_type": "markdown",
   "metadata": {},
   "source": [
    "## 1. Load data"
   ]
  },
  {
   "cell_type": "code",
   "execution_count": 5,
   "metadata": {
    "vscode": {
     "languageId": "r"
    }
   },
   "outputs": [
    {
     "data": {
      "text/html": [
       "<table class=\"dataframe\">\n",
       "<caption>A data.frame: 5 × 5</caption>\n",
       "<thead>\n",
       "\t<tr><th></th><th scope=col>Crime.Rate</th><th scope=col>Average.Rooms</th><th scope=col>Public.Transport.Access</th><th scope=col>Number.of.Schools</th><th scope=col>Median.Home.Value</th></tr>\n",
       "\t<tr><th></th><th scope=col>&lt;dbl&gt;</th><th scope=col>&lt;dbl&gt;</th><th scope=col>&lt;int&gt;</th><th scope=col>&lt;int&gt;</th><th scope=col>&lt;dbl&gt;</th></tr>\n",
       "</thead>\n",
       "<tbody>\n",
       "\t<tr><th scope=row>1</th><td>      NA</td><td>5.585324</td><td>10</td><td>3</td><td>47.90077</td></tr>\n",
       "\t<tr><th scope=row>2</th><td>2.654339</td><td>5.395206</td><td> 3</td><td>6</td><td>41.53910</td></tr>\n",
       "\t<tr><th scope=row>3</th><td>4.619221</td><td>6.033965</td><td> 9</td><td>4</td><td>48.51757</td></tr>\n",
       "\t<tr><th scope=row>4</th><td>6.807575</td><td>5.418335</td><td>10</td><td>5</td><td>42.50757</td></tr>\n",
       "\t<tr><th scope=row>5</th><td>2.414617</td><td>6.189320</td><td> 2</td><td>4</td><td>51.39125</td></tr>\n",
       "</tbody>\n",
       "</table>\n"
      ],
      "text/latex": [
       "A data.frame: 5 × 5\n",
       "\\begin{tabular}{r|lllll}\n",
       "  & Crime.Rate & Average.Rooms & Public.Transport.Access & Number.of.Schools & Median.Home.Value\\\\\n",
       "  & <dbl> & <dbl> & <int> & <int> & <dbl>\\\\\n",
       "\\hline\n",
       "\t1 &       NA & 5.585324 & 10 & 3 & 47.90077\\\\\n",
       "\t2 & 2.654339 & 5.395206 &  3 & 6 & 41.53910\\\\\n",
       "\t3 & 4.619221 & 6.033965 &  9 & 4 & 48.51757\\\\\n",
       "\t4 & 6.807575 & 5.418335 & 10 & 5 & 42.50757\\\\\n",
       "\t5 & 2.414617 & 6.189320 &  2 & 4 & 51.39125\\\\\n",
       "\\end{tabular}\n"
      ],
      "text/markdown": [
       "\n",
       "A data.frame: 5 × 5\n",
       "\n",
       "| <!--/--> | Crime.Rate &lt;dbl&gt; | Average.Rooms &lt;dbl&gt; | Public.Transport.Access &lt;int&gt; | Number.of.Schools &lt;int&gt; | Median.Home.Value &lt;dbl&gt; |\n",
       "|---|---|---|---|---|---|\n",
       "| 1 |       NA | 5.585324 | 10 | 3 | 47.90077 |\n",
       "| 2 | 2.654339 | 5.395206 |  3 | 6 | 41.53910 |\n",
       "| 3 | 4.619221 | 6.033965 |  9 | 4 | 48.51757 |\n",
       "| 4 | 6.807575 | 5.418335 | 10 | 5 | 42.50757 |\n",
       "| 5 | 2.414617 | 6.189320 |  2 | 4 | 51.39125 |\n",
       "\n"
      ],
      "text/plain": [
       "  Crime.Rate Average.Rooms Public.Transport.Access Number.of.Schools\n",
       "1       NA   5.585324      10                      3                \n",
       "2 2.654339   5.395206       3                      6                \n",
       "3 4.619221   6.033965       9                      4                \n",
       "4 6.807575   5.418335      10                      5                \n",
       "5 2.414617   6.189320       2                      4                \n",
       "  Median.Home.Value\n",
       "1 47.90077         \n",
       "2 41.53910         \n",
       "3 48.51757         \n",
       "4 42.50757         \n",
       "5 51.39125         "
      ]
     },
     "metadata": {},
     "output_type": "display_data"
    }
   ],
   "source": [
    "data <- read.csv(\"housing_data.csv\")\n",
    "head(data, 5)"
   ]
  },
  {
   "cell_type": "markdown",
   "metadata": {},
   "source": [
    "## 2. Summary statistics\n"
   ]
  },
  {
   "cell_type": "code",
   "execution_count": 6,
   "metadata": {
    "vscode": {
     "languageId": "r"
    }
   },
   "outputs": [
    {
     "name": "stdout",
     "output_type": "stream",
     "text": [
      "Structur of data:\n",
      "\n",
      "'data.frame':\t506 obs. of  5 variables:\n",
      " $ Crime.Rate             : num  NA 2.65 4.62 6.81 2.41 ...\n",
      " $ Average.Rooms          : num  5.59 5.4 6.03 5.42 6.19 ...\n",
      " $ Public.Transport.Access: int  10 3 9 10 2 6 7 9 3 10 ...\n",
      " $ Number.of.Schools      : int  3 6 4 5 4 4 4 4 6 4 ...\n",
      " $ Median.Home.Value      : num  47.9 41.5 48.5 42.5 51.4 ...\n",
      "\n",
      "-------------------------------------------------\n",
      "Summary: "
     ]
    },
    {
     "data": {
      "text/plain": [
       "   Crime.Rate        Average.Rooms   Public.Transport.Access Number.of.Schools\n",
       " Min.   : 0.005305   Min.   :4.112   Min.   : 1.000          Min.   : 0.000   \n",
       " 1st Qu.: 1.299938   1st Qu.:5.598   1st Qu.: 3.000          1st Qu.: 4.000   \n",
       " Median : 3.031481   Median :6.033   Median : 5.000          Median : 5.000   \n",
       " Mean   : 3.137415   Mean   :6.026   Mean   : 5.421          Mean   : 4.992   \n",
       " 3rd Qu.: 4.584798   3rd Qu.:6.460   3rd Qu.: 8.000          3rd Qu.: 6.000   \n",
       " Max.   :12.631829   Max.   :7.801   Max.   :10.000          Max.   :10.000   \n",
       " NA's   :25          NA's   :15                                               \n",
       " Median.Home.Value\n",
       " Min.   :31.55    \n",
       " 1st Qu.:43.23    \n",
       " Median :46.91    \n",
       " Mean   :47.10    \n",
       " 3rd Qu.:50.85    \n",
       " Max.   :62.56    \n",
       "                  "
      ]
     },
     "metadata": {},
     "output_type": "display_data"
    }
   ],
   "source": [
    "cat(\"Structur of data:\\n\\n\")\n",
    "str(data)\n",
    "cat(\"\\n-------------------------------------------------\\n\")\n",
    "cat(\"Summary: \")\n",
    "summary(data)"
   ]
  },
  {
   "cell_type": "markdown",
   "metadata": {},
   "source": [
    "## 3. Get mean, mode and median, as well as the standard deviation for each variable"
   ]
  },
  {
   "cell_type": "markdown",
   "metadata": {},
   "source": [
    "**Mean**"
   ]
  },
  {
   "cell_type": "code",
   "execution_count": 7,
   "metadata": {
    "vscode": {
     "languageId": "r"
    }
   },
   "outputs": [
    {
     "name": "stdout",
     "output_type": "stream",
     "text": [
      "Mean of Crime.Rate : 3.13741457390437 \n",
      "Mean of Average.Rooms : 6.02573705745418 \n",
      "Mean of Public.Transport.Access : 5.42094861660079 \n",
      "Mean of Number.of.Schools : 4.99209486166008 \n",
      "Mean of Median.Home.Value : 47.1035584244862 \n"
     ]
    }
   ],
   "source": [
    "means <- function(df, column) {\n",
    "    mean_value <- mean(df[[column]], na.rm = TRUE)\n",
    "    return(mean_value)\n",
    "}\n",
    "\n",
    "for (col in colnames(data)) {\n",
    "    cat(paste(\"Mean of\", col, \":\", means(data, col), \"\\n\"))\n",
    "}\n"
   ]
  },
  {
   "cell_type": "markdown",
   "metadata": {},
   "source": [
    "**Mode**\n"
   ]
  },
  {
   "cell_type": "code",
   "execution_count": 8,
   "metadata": {
    "vscode": {
     "languageId": "r"
    }
   },
   "outputs": [
    {
     "name": "stdout",
     "output_type": "stream",
     "text": [
      "Mode of Crime.Rate : 0.1 \n",
      "Mode of Average.Rooms : NA \n",
      "Mode of Public.Transport.Access : 2 \n",
      "Mode of Number.of.Schools : 5 \n",
      "Mode of Median.Home.Value : 47.90076602 \n"
     ]
    }
   ],
   "source": [
    "mode <- function(df, column) {\n",
    "    unique <- unique(df[[column]])\n",
    "    mode_value <- unique[which.max(tabulate(match(df[[column]], unique)))]\n",
    "    return(mode_value)\n",
    "}\n",
    "\n",
    "for (col in colnames(data)) {\n",
    "    cat(paste(\"Mode of\", col, \":\", mode(data, col), \"\\n\"))\n",
    "}"
   ]
  },
  {
   "cell_type": "markdown",
   "metadata": {},
   "source": [
    "**Median**"
   ]
  },
  {
   "cell_type": "code",
   "execution_count": 9,
   "metadata": {
    "vscode": {
     "languageId": "r"
    }
   },
   "outputs": [
    {
     "name": "stdout",
     "output_type": "stream",
     "text": [
      "Median of Crime.Rate : 3.031481002 \n",
      "Median of Average.Rooms : 6.03317907 \n",
      "Median of Public.Transport.Access : 5 \n",
      "Median of Number.of.Schools : 5 \n",
      "Median of Median.Home.Value : 46.91257421 \n"
     ]
    }
   ],
   "source": [
    "median_value <- function(df, column) {\n",
    "  med <- median(df[[column]], na.rm = TRUE)\n",
    "  return(med)\n",
    "}\n",
    "\n",
    "for (col in colnames(data)) {\n",
    "  cat(paste(\"Median of\", col, \":\", median_value(data, col), \"\\n\"))\n",
    "}"
   ]
  },
  {
   "cell_type": "markdown",
   "metadata": {},
   "source": [
    "**Standard deviation**"
   ]
  },
  {
   "cell_type": "code",
   "execution_count": 10,
   "metadata": {
    "vscode": {
     "languageId": "r"
    }
   },
   "outputs": [
    {
     "name": "stdout",
     "output_type": "stream",
     "text": [
      "[1] 0.6753014\n",
      "[1] 2.225571\n",
      "[1] 2.858837\n",
      "[1] 1.978082\n",
      "[1] 5.489362\n"
     ]
    }
   ],
   "source": [
    "\n",
    "sd_average_rooms <- sd(data$Average.Rooms, na.rm = TRUE)\n",
    "sd_crime_rate <- sd(data$Crime.Rate, na.rm = TRUE)\n",
    "sd_transport_access <- sd(data$Public.Transport.Access, na.rm = TRUE)\n",
    "sd_schools <- sd(data$Number.of.Schools, na.rm = TRUE)\n",
    "sd_home_value <- sd(data$Median.Home.Value, na.rm = TRUE)\n",
    "print(sd_average_rooms)\n",
    "print(sd_crime_rate)\n",
    "print(sd_transport_access)\n",
    "print(sd_schools)\n",
    "print(sd_home_value)\n"
   ]
  },
  {
   "cell_type": "markdown",
   "metadata": {},
   "source": [
    "### 4. Compute the correlation between each pair of variables\n"
   ]
  },
  {
   "cell_type": "code",
   "execution_count": 11,
   "metadata": {
    "vscode": {
     "languageId": "r"
    }
   },
   "outputs": [
    {
     "data": {
      "text/html": [
       "<table class=\"dataframe\">\n",
       "<caption>A matrix: 5 × 5 of type dbl</caption>\n",
       "<thead>\n",
       "\t<tr><th></th><th scope=col>Crime.Rate</th><th scope=col>Average.Rooms</th><th scope=col>Public.Transport.Access</th><th scope=col>Number.of.Schools</th><th scope=col>Median.Home.Value</th></tr>\n",
       "</thead>\n",
       "<tbody>\n",
       "\t<tr><th scope=row>Crime.Rate</th><td>1.00000000</td><td> 0.109411375</td><td> 0.0115047832</td><td> 0.025079768</td><td> 0.0879369585</td></tr>\n",
       "\t<tr><th scope=row>Average.Rooms</th><td>0.10941138</td><td> 1.000000000</td><td>-0.0074220520</td><td>-0.008113311</td><td> 0.8896695239</td></tr>\n",
       "\t<tr><th scope=row>Public.Transport.Access</th><td>0.01150478</td><td>-0.007422052</td><td> 1.0000000000</td><td> 0.014596282</td><td> 0.0009097478</td></tr>\n",
       "\t<tr><th scope=row>Number.of.Schools</th><td>0.02507977</td><td>-0.008113311</td><td> 0.0145962817</td><td> 1.000000000</td><td>-0.0072444918</td></tr>\n",
       "\t<tr><th scope=row>Median.Home.Value</th><td>0.08793696</td><td> 0.889669524</td><td> 0.0009097478</td><td>-0.007244492</td><td> 1.0000000000</td></tr>\n",
       "</tbody>\n",
       "</table>\n"
      ],
      "text/latex": [
       "A matrix: 5 × 5 of type dbl\n",
       "\\begin{tabular}{r|lllll}\n",
       "  & Crime.Rate & Average.Rooms & Public.Transport.Access & Number.of.Schools & Median.Home.Value\\\\\n",
       "\\hline\n",
       "\tCrime.Rate & 1.00000000 &  0.109411375 &  0.0115047832 &  0.025079768 &  0.0879369585\\\\\n",
       "\tAverage.Rooms & 0.10941138 &  1.000000000 & -0.0074220520 & -0.008113311 &  0.8896695239\\\\\n",
       "\tPublic.Transport.Access & 0.01150478 & -0.007422052 &  1.0000000000 &  0.014596282 &  0.0009097478\\\\\n",
       "\tNumber.of.Schools & 0.02507977 & -0.008113311 &  0.0145962817 &  1.000000000 & -0.0072444918\\\\\n",
       "\tMedian.Home.Value & 0.08793696 &  0.889669524 &  0.0009097478 & -0.007244492 &  1.0000000000\\\\\n",
       "\\end{tabular}\n"
      ],
      "text/markdown": [
       "\n",
       "A matrix: 5 × 5 of type dbl\n",
       "\n",
       "| <!--/--> | Crime.Rate | Average.Rooms | Public.Transport.Access | Number.of.Schools | Median.Home.Value |\n",
       "|---|---|---|---|---|---|\n",
       "| Crime.Rate | 1.00000000 |  0.109411375 |  0.0115047832 |  0.025079768 |  0.0879369585 |\n",
       "| Average.Rooms | 0.10941138 |  1.000000000 | -0.0074220520 | -0.008113311 |  0.8896695239 |\n",
       "| Public.Transport.Access | 0.01150478 | -0.007422052 |  1.0000000000 |  0.014596282 |  0.0009097478 |\n",
       "| Number.of.Schools | 0.02507977 | -0.008113311 |  0.0145962817 |  1.000000000 | -0.0072444918 |\n",
       "| Median.Home.Value | 0.08793696 |  0.889669524 |  0.0009097478 | -0.007244492 |  1.0000000000 |\n",
       "\n"
      ],
      "text/plain": [
       "                        Crime.Rate Average.Rooms Public.Transport.Access\n",
       "Crime.Rate              1.00000000  0.109411375   0.0115047832          \n",
       "Average.Rooms           0.10941138  1.000000000  -0.0074220520          \n",
       "Public.Transport.Access 0.01150478 -0.007422052   1.0000000000          \n",
       "Number.of.Schools       0.02507977 -0.008113311   0.0145962817          \n",
       "Median.Home.Value       0.08793696  0.889669524   0.0009097478          \n",
       "                        Number.of.Schools Median.Home.Value\n",
       "Crime.Rate               0.025079768       0.0879369585    \n",
       "Average.Rooms           -0.008113311       0.8896695239    \n",
       "Public.Transport.Access  0.014596282       0.0009097478    \n",
       "Number.of.Schools        1.000000000      -0.0072444918    \n",
       "Median.Home.Value       -0.007244492       1.0000000000    "
      ]
     },
     "metadata": {},
     "output_type": "display_data"
    }
   ],
   "source": [
    "corr_matrix <- cor(data, use = \"pairwise.complete.obs\")\n",
    "corr_matrix"
   ]
  },
  {
   "cell_type": "code",
   "execution_count": 12,
   "metadata": {
    "vscode": {
     "languageId": "r"
    }
   },
   "outputs": [
    {
     "data": {
      "image/png": "[encoded data removed]",
      "text/plain": [
       "plot without title"
      ]
     },
     "metadata": {
      "image/png": {
       "height": 420,
       "width": 420
      }
     },
     "output_type": "display_data"
    }
   ],
   "source": [
    "ggcorrplot(corr_matrix,\n",
    "           method = \"circle\",\n",
    "           type = \"lower\",\n",
    "           lab = TRUE,\n",
    "           lab_size = 3,\n",
    "           colors = c(\"blue\", \"white\", \"red\"),\n",
    "           title = \"Matrice de corrélation\",\n",
    "           ggtheme = ggplot2::theme_minimal())\n"
   ]
  },
  {
   "cell_type": "code",
   "execution_count": 13,
   "metadata": {
    "vscode": {
     "languageId": "r"
    }
   },
   "outputs": [
    {
     "name": "stdout",
     "output_type": "stream",
     "text": [
      "                  row col\n",
      "Median.Home.Value   5   2\n",
      "Average.Rooms       2   5\n",
      "The highest correlation is between columns:  Median.Home.Value  and  Average.Rooms"
     ]
    }
   ],
   "source": [
    "high_corr <- which(corr_matrix == max(corr_matrix[corr_matrix < 1]), arr.ind=TRUE)\n",
    "print(high_corr)\n",
    "cat(paste(\"The highest correlation is between columns: \",colnames(corr_matrix)[high_corr][1],\" and \",colnames(corr_matrix)[high_corr][2]))\n"
   ]
  },
  {
   "cell_type": "code",
   "execution_count": 14,
   "metadata": {
    "vscode": {
     "languageId": "r"
    }
   },
   "outputs": [
    {
     "name": "stdout",
     "output_type": "stream",
     "text": [
      "Na values: \n",
      "\n",
      "Crime.Rate: 25\n",
      "Average.Rooms: 15\n",
      "Public.Transport.Access: 0\n",
      "Number.of.Schools: 0\n",
      "Median.Home.Value: 0"
     ]
    }
   ],
   "source": [
    "cat(\"Na values: \\n\")\n",
    "cat(paste(\"\\nCrime.Rate:\", colSums(is.na(data[\"Crime.Rate\"]))))\n",
    "cat(paste(\"\\nAverage.Rooms:\", colSums(is.na(data[\"Average.Rooms\"]))))\n",
    "cat(paste(\"\\nPublic.Transport.Access:\", colSums(is.na(data[\"Public.Transport.Access\"]))))\n",
    "cat(paste(\"\\nNumber.of.Schools:\", colSums(is.na(data[\"Number.of.Schools\"]))))\n",
    "cat(paste(\"\\nMedian.Home.Value:\", colSums(is.na(data[\"Median.Home.Value\"]))))\n",
    "\n",
    "# colSums(is.na(data))\n"
   ]
  },
  {
   "cell_type": "code",
   "execution_count": 15,
   "metadata": {
    "vscode": {
     "languageId": "r"
    }
   },
   "outputs": [
    {
     "data": {
      "text/html": [
       "<table class=\"dataframe\">\n",
       "<caption>A data.frame: 506 × 5</caption>\n",
       "<thead>\n",
       "\t<tr><th scope=col>Crime.Rate</th><th scope=col>Average.Rooms</th><th scope=col>Public.Transport.Access</th><th scope=col>Number.of.Schools</th><th scope=col>Median.Home.Value</th></tr>\n",
       "\t<tr><th scope=col>&lt;dbl&gt;</th><th scope=col>&lt;dbl&gt;</th><th scope=col>&lt;int&gt;</th><th scope=col>&lt;int&gt;</th><th scope=col>&lt;dbl&gt;</th></tr>\n",
       "</thead>\n",
       "<tbody>\n",
       "\t<tr><td>3.0314810</td><td>5.585324</td><td>10</td><td> 3</td><td>47.90077</td></tr>\n",
       "\t<tr><td>2.6543392</td><td>5.395206</td><td> 3</td><td> 6</td><td>41.53910</td></tr>\n",
       "\t<tr><td>4.6192213</td><td>6.033965</td><td> 9</td><td> 4</td><td>48.51757</td></tr>\n",
       "\t<tr><td>6.8075746</td><td>5.418335</td><td>10</td><td> 5</td><td>42.50757</td></tr>\n",
       "\t<tr><td>2.4146166</td><td>6.189320</td><td> 2</td><td> 4</td><td>51.39125</td></tr>\n",
       "\t<tr><td>2.4146576</td><td>5.964833</td><td> 6</td><td> 4</td><td>49.64657</td></tr>\n",
       "\t<tr><td>6.9480320</td><td>5.832736</td><td> 7</td><td> 4</td><td>48.76959</td></tr>\n",
       "\t<tr><td>4.9185868</td><td>5.364705</td><td> 9</td><td> 4</td><td>38.21798</td></tr>\n",
       "\t<tr><td>1.8263140</td><td>5.596260</td><td> 3</td><td> 6</td><td>44.69063</td></tr>\n",
       "\t<tr><td>3.0314810</td><td>6.528774</td><td>10</td><td> 4</td><td>52.59876</td></tr>\n",
       "\t<tr><td>1.8414558</td><td>6.350642</td><td> 3</td><td> 5</td><td>50.40834</td></tr>\n",
       "\t<tr><td>1.8356756</td><td>5.315711</td><td> 7</td><td> 4</td><td>43.80147</td></tr>\n",
       "\t<tr><td>3.6049057</td><td>6.069533</td><td> 4</td><td> 2</td><td>47.63261</td></tr>\n",
       "\t<tr><td>0.1000000</td><td>6.525971</td><td> 8</td><td> 7</td><td>48.81984</td></tr>\n",
       "\t<tr><td>0.1000000</td><td>4.831416</td><td> 7</td><td> 6</td><td>34.57717</td></tr>\n",
       "\t<tr><td>1.5942812</td><td>6.380352</td><td> 5</td><td>10</td><td>48.04854</td></tr>\n",
       "\t<tr><td>0.4679222</td><td>5.536163</td><td> 7</td><td> 3</td><td>50.44842</td></tr>\n",
       "\t<tr><td>3.7856183</td><td>6.399419</td><td> 3</td><td> 5</td><td>48.58181</td></tr>\n",
       "\t<tr><td>0.7299398</td><td>5.465719</td><td> 2</td><td> 5</td><td>38.36155</td></tr>\n",
       "\t<tr><td>0.1000000</td><td>4.736583</td><td> 6</td><td> 7</td><td>39.98770</td></tr>\n",
       "\t<tr><td>6.6641219</td><td>4.860720</td><td> 2</td><td> 4</td><td>41.16369</td></tr>\n",
       "\t<tr><td>2.4355592</td><td>6.033659</td><td> 3</td><td> 3</td><td>50.45393</td></tr>\n",
       "\t<tr><td>3.1688205</td><td>6.181806</td><td> 6</td><td> 7</td><td>49.45009</td></tr>\n",
       "\t<tr><td>3.0314810</td><td>5.366978</td><td> 5</td><td> 4</td><td>44.68285</td></tr>\n",
       "\t<tr><td>1.6390432</td><td>6.447015</td><td> 8</td><td> 7</td><td>54.72965</td></tr>\n",
       "\t<tr><td>3.2773065</td><td>4.836936</td><td> 9</td><td> 7</td><td>36.99487</td></tr>\n",
       "\t<tr><td>0.1225161</td><td>5.953744</td><td> 3</td><td> 5</td><td>44.31658</td></tr>\n",
       "\t<tr><td>3.9392450</td><td>5.152289</td><td>10</td><td> 5</td><td>38.32955</td></tr>\n",
       "\t<tr><td>1.4984033</td><td>5.543715</td><td> 3</td><td> 4</td><td>43.14158</td></tr>\n",
       "\t<tr><td>2.2707656</td><td>6.033179</td><td> 3</td><td> 5</td><td>50.81581</td></tr>\n",
       "\t<tr><td>⋮</td><td>⋮</td><td>⋮</td><td>⋮</td><td>⋮</td></tr>\n",
       "\t<tr><td> 4.4413924</td><td>5.323117</td><td> 2</td><td> 6</td><td>40.92192</td></tr>\n",
       "\t<tr><td> 3.7781254</td><td>5.966602</td><td> 4</td><td>10</td><td>48.11627</td></tr>\n",
       "\t<tr><td>10.6972020</td><td>5.997478</td><td> 2</td><td> 6</td><td>43.73456</td></tr>\n",
       "\t<tr><td> 5.7989373</td><td>5.189145</td><td>10</td><td> 5</td><td>38.26848</td></tr>\n",
       "\t<tr><td> 2.6802060</td><td>7.052379</td><td> 9</td><td> 3</td><td>57.01217</td></tr>\n",
       "\t<tr><td> 0.6111489</td><td>6.614154</td><td> 2</td><td> 5</td><td>53.64298</td></tr>\n",
       "\t<tr><td> 0.1000000</td><td>5.845325</td><td> 9</td><td> 3</td><td>47.50130</td></tr>\n",
       "\t<tr><td> 3.5086591</td><td>6.018820</td><td> 6</td><td> 6</td><td>47.35166</td></tr>\n",
       "\t<tr><td> 1.1091231</td><td>6.145868</td><td> 1</td><td> 5</td><td>42.04289</td></tr>\n",
       "\t<tr><td> 0.1000000</td><td>4.570786</td><td> 4</td><td> 1</td><td>36.80831</td></tr>\n",
       "\t<tr><td> 1.3835678</td><td>5.826976</td><td> 1</td><td> 5</td><td>46.92429</td></tr>\n",
       "\t<tr><td> 0.2961300</td><td>5.522611</td><td> 6</td><td> 7</td><td>42.32144</td></tr>\n",
       "\t<tr><td> 7.2178541</td><td>5.298866</td><td> 4</td><td> 4</td><td>40.31083</td></tr>\n",
       "\t<tr><td> 5.2040994</td><td>5.803230</td><td> 3</td><td> 4</td><td>49.23366</td></tr>\n",
       "\t<tr><td> 2.9800684</td><td>7.258381</td><td> 3</td><td> 2</td><td>55.65794</td></tr>\n",
       "\t<tr><td> 6.6998603</td><td>6.448590</td><td> 9</td><td> 1</td><td>51.27712</td></tr>\n",
       "\t<tr><td> 3.1934208</td><td>5.600175</td><td> 6</td><td> 7</td><td>46.13655</td></tr>\n",
       "\t<tr><td> 0.8467895</td><td>6.400808</td><td> 9</td><td> 5</td><td>47.30206</td></tr>\n",
       "\t<tr><td> 6.8078102</td><td>6.979549</td><td> 5</td><td> 7</td><td>54.33986</td></tr>\n",
       "\t<tr><td> 4.3472751</td><td>6.647244</td><td> 2</td><td> 8</td><td>54.82982</td></tr>\n",
       "\t<tr><td> 3.0314810</td><td>6.041741</td><td> 8</td><td> 7</td><td>51.84025</td></tr>\n",
       "\t<tr><td> 2.5241533</td><td>5.547144</td><td> 5</td><td> 4</td><td>43.92985</td></tr>\n",
       "\t<tr><td> 0.8109544</td><td>6.488756</td><td> 2</td><td> 5</td><td>49.82644</td></tr>\n",
       "\t<tr><td> 0.1000000</td><td>6.275440</td><td> 4</td><td> 4</td><td>49.60064</td></tr>\n",
       "\t<tr><td> 5.3154439</td><td>6.626635</td><td> 9</td><td> 4</td><td>51.99554</td></tr>\n",
       "\t<tr><td> 3.0314810</td><td>6.444620</td><td> 4</td><td> 6</td><td>53.57924</td></tr>\n",
       "\t<tr><td> 0.1000000</td><td>6.734687</td><td> 4</td><td> 3</td><td>49.65183</td></tr>\n",
       "\t<tr><td> 4.4074231</td><td>5.625335</td><td> 2</td><td> 1</td><td>43.67766</td></tr>\n",
       "\t<tr><td> 1.3733936</td><td>6.922176</td><td> 6</td><td> 3</td><td>50.66238</td></tr>\n",
       "\t<tr><td> 1.7821865</td><td>6.138320</td><td> 2</td><td> 4</td><td>45.43800</td></tr>\n",
       "</tbody>\n",
       "</table>\n"
      ],
      "text/latex": [
       "A data.frame: 506 × 5\n",
       "\\begin{tabular}{lllll}\n",
       " Crime.Rate & Average.Rooms & Public.Transport.Access & Number.of.Schools & Median.Home.Value\\\\\n",
       " <dbl> & <dbl> & <int> & <int> & <dbl>\\\\\n",
       "\\hline\n",
       "\t 3.0314810 & 5.585324 & 10 &  3 & 47.90077\\\\\n",
       "\t 2.6543392 & 5.395206 &  3 &  6 & 41.53910\\\\\n",
       "\t 4.6192213 & 6.033965 &  9 &  4 & 48.51757\\\\\n",
       "\t 6.8075746 & 5.418335 & 10 &  5 & 42.50757\\\\\n",
       "\t 2.4146166 & 6.189320 &  2 &  4 & 51.39125\\\\\n",
       "\t 2.4146576 & 5.964833 &  6 &  4 & 49.64657\\\\\n",
       "\t 6.9480320 & 5.832736 &  7 &  4 & 48.76959\\\\\n",
       "\t 4.9185868 & 5.364705 &  9 &  4 & 38.21798\\\\\n",
       "\t 1.8263140 & 5.596260 &  3 &  6 & 44.69063\\\\\n",
       "\t 3.0314810 & 6.528774 & 10 &  4 & 52.59876\\\\\n",
       "\t 1.8414558 & 6.350642 &  3 &  5 & 50.40834\\\\\n",
       "\t 1.8356756 & 5.315711 &  7 &  4 & 43.80147\\\\\n",
       "\t 3.6049057 & 6.069533 &  4 &  2 & 47.63261\\\\\n",
       "\t 0.1000000 & 6.525971 &  8 &  7 & 48.81984\\\\\n",
       "\t 0.1000000 & 4.831416 &  7 &  6 & 34.57717\\\\\n",
       "\t 1.5942812 & 6.380352 &  5 & 10 & 48.04854\\\\\n",
       "\t 0.4679222 & 5.536163 &  7 &  3 & 50.44842\\\\\n",
       "\t 3.7856183 & 6.399419 &  3 &  5 & 48.58181\\\\\n",
       "\t 0.7299398 & 5.465719 &  2 &  5 & 38.36155\\\\\n",
       "\t 0.1000000 & 4.736583 &  6 &  7 & 39.98770\\\\\n",
       "\t 6.6641219 & 4.860720 &  2 &  4 & 41.16369\\\\\n",
       "\t 2.4355592 & 6.033659 &  3 &  3 & 50.45393\\\\\n",
       "\t 3.1688205 & 6.181806 &  6 &  7 & 49.45009\\\\\n",
       "\t 3.0314810 & 5.366978 &  5 &  4 & 44.68285\\\\\n",
       "\t 1.6390432 & 6.447015 &  8 &  7 & 54.72965\\\\\n",
       "\t 3.2773065 & 4.836936 &  9 &  7 & 36.99487\\\\\n",
       "\t 0.1225161 & 5.953744 &  3 &  5 & 44.31658\\\\\n",
       "\t 3.9392450 & 5.152289 & 10 &  5 & 38.32955\\\\\n",
       "\t 1.4984033 & 5.543715 &  3 &  4 & 43.14158\\\\\n",
       "\t 2.2707656 & 6.033179 &  3 &  5 & 50.81581\\\\\n",
       "\t ⋮ & ⋮ & ⋮ & ⋮ & ⋮\\\\\n",
       "\t  4.4413924 & 5.323117 &  2 &  6 & 40.92192\\\\\n",
       "\t  3.7781254 & 5.966602 &  4 & 10 & 48.11627\\\\\n",
       "\t 10.6972020 & 5.997478 &  2 &  6 & 43.73456\\\\\n",
       "\t  5.7989373 & 5.189145 & 10 &  5 & 38.26848\\\\\n",
       "\t  2.6802060 & 7.052379 &  9 &  3 & 57.01217\\\\\n",
       "\t  0.6111489 & 6.614154 &  2 &  5 & 53.64298\\\\\n",
       "\t  0.1000000 & 5.845325 &  9 &  3 & 47.50130\\\\\n",
       "\t  3.5086591 & 6.018820 &  6 &  6 & 47.35166\\\\\n",
       "\t  1.1091231 & 6.145868 &  1 &  5 & 42.04289\\\\\n",
       "\t  0.1000000 & 4.570786 &  4 &  1 & 36.80831\\\\\n",
       "\t  1.3835678 & 5.826976 &  1 &  5 & 46.92429\\\\\n",
       "\t  0.2961300 & 5.522611 &  6 &  7 & 42.32144\\\\\n",
       "\t  7.2178541 & 5.298866 &  4 &  4 & 40.31083\\\\\n",
       "\t  5.2040994 & 5.803230 &  3 &  4 & 49.23366\\\\\n",
       "\t  2.9800684 & 7.258381 &  3 &  2 & 55.65794\\\\\n",
       "\t  6.6998603 & 6.448590 &  9 &  1 & 51.27712\\\\\n",
       "\t  3.1934208 & 5.600175 &  6 &  7 & 46.13655\\\\\n",
       "\t  0.8467895 & 6.400808 &  9 &  5 & 47.30206\\\\\n",
       "\t  6.8078102 & 6.979549 &  5 &  7 & 54.33986\\\\\n",
       "\t  4.3472751 & 6.647244 &  2 &  8 & 54.82982\\\\\n",
       "\t  3.0314810 & 6.041741 &  8 &  7 & 51.84025\\\\\n",
       "\t  2.5241533 & 5.547144 &  5 &  4 & 43.92985\\\\\n",
       "\t  0.8109544 & 6.488756 &  2 &  5 & 49.82644\\\\\n",
       "\t  0.1000000 & 6.275440 &  4 &  4 & 49.60064\\\\\n",
       "\t  5.3154439 & 6.626635 &  9 &  4 & 51.99554\\\\\n",
       "\t  3.0314810 & 6.444620 &  4 &  6 & 53.57924\\\\\n",
       "\t  0.1000000 & 6.734687 &  4 &  3 & 49.65183\\\\\n",
       "\t  4.4074231 & 5.625335 &  2 &  1 & 43.67766\\\\\n",
       "\t  1.3733936 & 6.922176 &  6 &  3 & 50.66238\\\\\n",
       "\t  1.7821865 & 6.138320 &  2 &  4 & 45.43800\\\\\n",
       "\\end{tabular}\n"
      ],
      "text/markdown": [
       "\n",
       "A data.frame: 506 × 5\n",
       "\n",
       "| Crime.Rate &lt;dbl&gt; | Average.Rooms &lt;dbl&gt; | Public.Transport.Access &lt;int&gt; | Number.of.Schools &lt;int&gt; | Median.Home.Value &lt;dbl&gt; |\n",
       "|---|---|---|---|---|\n",
       "| 3.0314810 | 5.585324 | 10 |  3 | 47.90077 |\n",
       "| 2.6543392 | 5.395206 |  3 |  6 | 41.53910 |\n",
       "| 4.6192213 | 6.033965 |  9 |  4 | 48.51757 |\n",
       "| 6.8075746 | 5.418335 | 10 |  5 | 42.50757 |\n",
       "| 2.4146166 | 6.189320 |  2 |  4 | 51.39125 |\n",
       "| 2.4146576 | 5.964833 |  6 |  4 | 49.64657 |\n",
       "| 6.9480320 | 5.832736 |  7 |  4 | 48.76959 |\n",
       "| 4.9185868 | 5.364705 |  9 |  4 | 38.21798 |\n",
       "| 1.8263140 | 5.596260 |  3 |  6 | 44.69063 |\n",
       "| 3.0314810 | 6.528774 | 10 |  4 | 52.59876 |\n",
       "| 1.8414558 | 6.350642 |  3 |  5 | 50.40834 |\n",
       "| 1.8356756 | 5.315711 |  7 |  4 | 43.80147 |\n",
       "| 3.6049057 | 6.069533 |  4 |  2 | 47.63261 |\n",
       "| 0.1000000 | 6.525971 |  8 |  7 | 48.81984 |\n",
       "| 0.1000000 | 4.831416 |  7 |  6 | 34.57717 |\n",
       "| 1.5942812 | 6.380352 |  5 | 10 | 48.04854 |\n",
       "| 0.4679222 | 5.536163 |  7 |  3 | 50.44842 |\n",
       "| 3.7856183 | 6.399419 |  3 |  5 | 48.58181 |\n",
       "| 0.7299398 | 5.465719 |  2 |  5 | 38.36155 |\n",
       "| 0.1000000 | 4.736583 |  6 |  7 | 39.98770 |\n",
       "| 6.6641219 | 4.860720 |  2 |  4 | 41.16369 |\n",
       "| 2.4355592 | 6.033659 |  3 |  3 | 50.45393 |\n",
       "| 3.1688205 | 6.181806 |  6 |  7 | 49.45009 |\n",
       "| 3.0314810 | 5.366978 |  5 |  4 | 44.68285 |\n",
       "| 1.6390432 | 6.447015 |  8 |  7 | 54.72965 |\n",
       "| 3.2773065 | 4.836936 |  9 |  7 | 36.99487 |\n",
       "| 0.1225161 | 5.953744 |  3 |  5 | 44.31658 |\n",
       "| 3.9392450 | 5.152289 | 10 |  5 | 38.32955 |\n",
       "| 1.4984033 | 5.543715 |  3 |  4 | 43.14158 |\n",
       "| 2.2707656 | 6.033179 |  3 |  5 | 50.81581 |\n",
       "| ⋮ | ⋮ | ⋮ | ⋮ | ⋮ |\n",
       "|  4.4413924 | 5.323117 |  2 |  6 | 40.92192 |\n",
       "|  3.7781254 | 5.966602 |  4 | 10 | 48.11627 |\n",
       "| 10.6972020 | 5.997478 |  2 |  6 | 43.73456 |\n",
       "|  5.7989373 | 5.189145 | 10 |  5 | 38.26848 |\n",
       "|  2.6802060 | 7.052379 |  9 |  3 | 57.01217 |\n",
       "|  0.6111489 | 6.614154 |  2 |  5 | 53.64298 |\n",
       "|  0.1000000 | 5.845325 |  9 |  3 | 47.50130 |\n",
       "|  3.5086591 | 6.018820 |  6 |  6 | 47.35166 |\n",
       "|  1.1091231 | 6.145868 |  1 |  5 | 42.04289 |\n",
       "|  0.1000000 | 4.570786 |  4 |  1 | 36.80831 |\n",
       "|  1.3835678 | 5.826976 |  1 |  5 | 46.92429 |\n",
       "|  0.2961300 | 5.522611 |  6 |  7 | 42.32144 |\n",
       "|  7.2178541 | 5.298866 |  4 |  4 | 40.31083 |\n",
       "|  5.2040994 | 5.803230 |  3 |  4 | 49.23366 |\n",
       "|  2.9800684 | 7.258381 |  3 |  2 | 55.65794 |\n",
       "|  6.6998603 | 6.448590 |  9 |  1 | 51.27712 |\n",
       "|  3.1934208 | 5.600175 |  6 |  7 | 46.13655 |\n",
       "|  0.8467895 | 6.400808 |  9 |  5 | 47.30206 |\n",
       "|  6.8078102 | 6.979549 |  5 |  7 | 54.33986 |\n",
       "|  4.3472751 | 6.647244 |  2 |  8 | 54.82982 |\n",
       "|  3.0314810 | 6.041741 |  8 |  7 | 51.84025 |\n",
       "|  2.5241533 | 5.547144 |  5 |  4 | 43.92985 |\n",
       "|  0.8109544 | 6.488756 |  2 |  5 | 49.82644 |\n",
       "|  0.1000000 | 6.275440 |  4 |  4 | 49.60064 |\n",
       "|  5.3154439 | 6.626635 |  9 |  4 | 51.99554 |\n",
       "|  3.0314810 | 6.444620 |  4 |  6 | 53.57924 |\n",
       "|  0.1000000 | 6.734687 |  4 |  3 | 49.65183 |\n",
       "|  4.4074231 | 5.625335 |  2 |  1 | 43.67766 |\n",
       "|  1.3733936 | 6.922176 |  6 |  3 | 50.66238 |\n",
       "|  1.7821865 | 6.138320 |  2 |  4 | 45.43800 |\n",
       "\n"
      ],
      "text/plain": [
       "    Crime.Rate Average.Rooms Public.Transport.Access Number.of.Schools\n",
       "1   3.0314810  5.585324      10                       3               \n",
       "2   2.6543392  5.395206       3                       6               \n",
       "3   4.6192213  6.033965       9                       4               \n",
       "4   6.8075746  5.418335      10                       5               \n",
       "5   2.4146166  6.189320       2                       4               \n",
       "6   2.4146576  5.964833       6                       4               \n",
       "7   6.9480320  5.832736       7                       4               \n",
       "8   4.9185868  5.364705       9                       4               \n",
       "9   1.8263140  5.596260       3                       6               \n",
       "10  3.0314810  6.528774      10                       4               \n",
       "11  1.8414558  6.350642       3                       5               \n",
       "12  1.8356756  5.315711       7                       4               \n",
       "13  3.6049057  6.069533       4                       2               \n",
       "14  0.1000000  6.525971       8                       7               \n",
       "15  0.1000000  4.831416       7                       6               \n",
       "16  1.5942812  6.380352       5                      10               \n",
       "17  0.4679222  5.536163       7                       3               \n",
       "18  3.7856183  6.399419       3                       5               \n",
       "19  0.7299398  5.465719       2                       5               \n",
       "20  0.1000000  4.736583       6                       7               \n",
       "21  6.6641219  4.860720       2                       4               \n",
       "22  2.4355592  6.033659       3                       3               \n",
       "23  3.1688205  6.181806       6                       7               \n",
       "24  3.0314810  5.366978       5                       4               \n",
       "25  1.6390432  6.447015       8                       7               \n",
       "26  3.2773065  4.836936       9                       7               \n",
       "27  0.1225161  5.953744       3                       5               \n",
       "28  3.9392450  5.152289      10                       5               \n",
       "29  1.4984033  5.543715       3                       4               \n",
       "30  2.2707656  6.033179       3                       5               \n",
       "⋮   ⋮          ⋮             ⋮                       ⋮                \n",
       "477  4.4413924 5.323117       2                       6               \n",
       "478  3.7781254 5.966602       4                      10               \n",
       "479 10.6972020 5.997478       2                       6               \n",
       "480  5.7989373 5.189145      10                       5               \n",
       "481  2.6802060 7.052379       9                       3               \n",
       "482  0.6111489 6.614154       2                       5               \n",
       "483  0.1000000 5.845325       9                       3               \n",
       "484  3.5086591 6.018820       6                       6               \n",
       "485  1.1091231 6.145868       1                       5               \n",
       "486  0.1000000 4.570786       4                       1               \n",
       "487  1.3835678 5.826976       1                       5               \n",
       "488  0.2961300 5.522611       6                       7               \n",
       "489  7.2178541 5.298866       4                       4               \n",
       "490  5.2040994 5.803230       3                       4               \n",
       "491  2.9800684 7.258381       3                       2               \n",
       "492  6.6998603 6.448590       9                       1               \n",
       "493  3.1934208 5.600175       6                       7               \n",
       "494  0.8467895 6.400808       9                       5               \n",
       "495  6.8078102 6.979549       5                       7               \n",
       "496  4.3472751 6.647244       2                       8               \n",
       "497  3.0314810 6.041741       8                       7               \n",
       "498  2.5241533 5.547144       5                       4               \n",
       "499  0.8109544 6.488756       2                       5               \n",
       "500  0.1000000 6.275440       4                       4               \n",
       "501  5.3154439 6.626635       9                       4               \n",
       "502  3.0314810 6.444620       4                       6               \n",
       "503  0.1000000 6.734687       4                       3               \n",
       "504  4.4074231 5.625335       2                       1               \n",
       "505  1.3733936 6.922176       6                       3               \n",
       "506  1.7821865 6.138320       2                       4               \n",
       "    Median.Home.Value\n",
       "1   47.90077         \n",
       "2   41.53910         \n",
       "3   48.51757         \n",
       "4   42.50757         \n",
       "5   51.39125         \n",
       "6   49.64657         \n",
       "7   48.76959         \n",
       "8   38.21798         \n",
       "9   44.69063         \n",
       "10  52.59876         \n",
       "11  50.40834         \n",
       "12  43.80147         \n",
       "13  47.63261         \n",
       "14  48.81984         \n",
       "15  34.57717         \n",
       "16  48.04854         \n",
       "17  50.44842         \n",
       "18  48.58181         \n",
       "19  38.36155         \n",
       "20  39.98770         \n",
       "21  41.16369         \n",
       "22  50.45393         \n",
       "23  49.45009         \n",
       "24  44.68285         \n",
       "25  54.72965         \n",
       "26  36.99487         \n",
       "27  44.31658         \n",
       "28  38.32955         \n",
       "29  43.14158         \n",
       "30  50.81581         \n",
       "⋮   ⋮                \n",
       "477 40.92192         \n",
       "478 48.11627         \n",
       "479 43.73456         \n",
       "480 38.26848         \n",
       "481 57.01217         \n",
       "482 53.64298         \n",
       "483 47.50130         \n",
       "484 47.35166         \n",
       "485 42.04289         \n",
       "486 36.80831         \n",
       "487 46.92429         \n",
       "488 42.32144         \n",
       "489 40.31083         \n",
       "490 49.23366         \n",
       "491 55.65794         \n",
       "492 51.27712         \n",
       "493 46.13655         \n",
       "494 47.30206         \n",
       "495 54.33986         \n",
       "496 54.82982         \n",
       "497 51.84025         \n",
       "498 43.92985         \n",
       "499 49.82644         \n",
       "500 49.60064         \n",
       "501 51.99554         \n",
       "502 53.57924         \n",
       "503 49.65183         \n",
       "504 43.67766         \n",
       "505 50.66238         \n",
       "506 45.43800         "
      ]
     },
     "metadata": {},
     "output_type": "display_data"
    }
   ],
   "source": [
    "data_cleaned <- data %>% mutate_all(~ifelse(is.na(.), median(., na.rm = TRUE), .))\n",
    "data_cleaned"
   ]
  },
  {
   "cell_type": "code",
   "execution_count": 16,
   "metadata": {
    "vscode": {
     "languageId": "r"
    }
   },
   "outputs": [
    {
     "name": "stdout",
     "output_type": "stream",
     "text": [
      "Na values after filling missing values: \n",
      "\n",
      "Crime.Rate: 0\n",
      "Average.Rooms: 0\n",
      "Public.Transport.Access: 0\n",
      "Number.of.Schools: 0\n",
      "Median.Home.Value: 0"
     ]
    }
   ],
   "source": [
    "cat(\"Na values after filling missing values: \\n\")\n",
    "cat(paste(\"\\nCrime.Rate:\", colSums(is.na(data_cleaned[\"Crime.Rate\"]))))\n",
    "cat(paste(\"\\nAverage.Rooms:\", colSums(is.na(data_cleaned[\"Average.Rooms\"]))))\n",
    "cat(paste(\"\\nPublic.Transport.Access:\", colSums(is.na(data_cleaned[\"Public.Transport.Access\"]))))\n",
    "cat(paste(\"\\nNumber.of.Schools:\", colSums(is.na(data_cleaned[\"Number.of.Schools\"]))))\n",
    "cat(paste(\"\\nMedian.Home.Value:\", colSums(is.na(data_cleaned[\"Median.Home.Value\"]))))\n"
   ]
  },
  {
   "cell_type": "markdown",
   "metadata": {},
   "source": [
    "# Part 2 - Data visualization\n",
    "## Create a histogram of house prices with styling and 8 bins"
   ]
  },
  {
   "cell_type": "code",
   "execution_count": 17,
   "metadata": {
    "vscode": {
     "languageId": "r"
    }
   },
   "outputs": [
    {
     "data": {
      "image/png": "[encoded data removed]",
      "text/plain": [
       "plot without title"
      ]
     },
     "metadata": {
      "image/png": {
       "height": 420,
       "width": 420
      }
     },
     "output_type": "display_data"
    }
   ],
   "source": [
    "ggplot(data_cleaned, aes(x = Median.Home.Value)) +\n",
    "    geom_histogram(bins= 9, fill = \"darkcyan\",color = \"white\", alpha = 0.7  ) +\n",
    "    labs(title = \"Distribution of Median Home Values\", x= \"Median home values\", y= \"Frequency\") +\n",
    "    theme_minimal()\n"
   ]
  },
  {
   "cell_type": "markdown",
   "metadata": {
    "vscode": {
     "languageId": "r"
    }
   },
   "source": [
    "# Part 3 - Hypothesis testing\n",
    "## 1. Define \"high\" and \"low\" crime rates based on the median of the Crime.Rate variable\n"
   ]
  },
  {
   "cell_type": "code",
   "execution_count": 18,
   "metadata": {
    "vscode": {
     "languageId": "r"
    }
   },
   "outputs": [],
   "source": [
    "high_low_crimerate <- function(x){\n",
    "    median_crimerate <- median(data_cleaned$Crime.Rate)\n",
    "    if (x > median_crimerate){\n",
    "        return(\"High\")\n",
    "    }\n",
    "    else {\n",
    "       return(\"Low\")\n",
    "    }\n",
    "}"
   ]
  },
  {
   "cell_type": "code",
   "execution_count": 19,
   "metadata": {
    "vscode": {
     "languageId": "r"
    }
   },
   "outputs": [
    {
     "data": {
      "text/html": [
       "<table class=\"dataframe\">\n",
       "<caption>A data.frame: 506 × 6</caption>\n",
       "<thead>\n",
       "\t<tr><th scope=col>Crime.Rate</th><th scope=col>Average.Rooms</th><th scope=col>Public.Transport.Access</th><th scope=col>Number.of.Schools</th><th scope=col>Median.Home.Value</th><th scope=col>Crime.Category</th></tr>\n",
       "\t<tr><th scope=col>&lt;dbl&gt;</th><th scope=col>&lt;dbl&gt;</th><th scope=col>&lt;int&gt;</th><th scope=col>&lt;int&gt;</th><th scope=col>&lt;dbl&gt;</th><th scope=col>&lt;chr&gt;</th></tr>\n",
       "</thead>\n",
       "<tbody>\n",
       "\t<tr><td>3.0314810</td><td>5.585324</td><td>10</td><td> 3</td><td>47.90077</td><td>Low </td></tr>\n",
       "\t<tr><td>2.6543392</td><td>5.395206</td><td> 3</td><td> 6</td><td>41.53910</td><td>Low </td></tr>\n",
       "\t<tr><td>4.6192213</td><td>6.033965</td><td> 9</td><td> 4</td><td>48.51757</td><td>High</td></tr>\n",
       "\t<tr><td>6.8075746</td><td>5.418335</td><td>10</td><td> 5</td><td>42.50757</td><td>High</td></tr>\n",
       "\t<tr><td>2.4146166</td><td>6.189320</td><td> 2</td><td> 4</td><td>51.39125</td><td>Low </td></tr>\n",
       "\t<tr><td>2.4146576</td><td>5.964833</td><td> 6</td><td> 4</td><td>49.64657</td><td>Low </td></tr>\n",
       "\t<tr><td>6.9480320</td><td>5.832736</td><td> 7</td><td> 4</td><td>48.76959</td><td>High</td></tr>\n",
       "\t<tr><td>4.9185868</td><td>5.364705</td><td> 9</td><td> 4</td><td>38.21798</td><td>High</td></tr>\n",
       "\t<tr><td>1.8263140</td><td>5.596260</td><td> 3</td><td> 6</td><td>44.69063</td><td>Low </td></tr>\n",
       "\t<tr><td>3.0314810</td><td>6.528774</td><td>10</td><td> 4</td><td>52.59876</td><td>Low </td></tr>\n",
       "\t<tr><td>1.8414558</td><td>6.350642</td><td> 3</td><td> 5</td><td>50.40834</td><td>Low </td></tr>\n",
       "\t<tr><td>1.8356756</td><td>5.315711</td><td> 7</td><td> 4</td><td>43.80147</td><td>Low </td></tr>\n",
       "\t<tr><td>3.6049057</td><td>6.069533</td><td> 4</td><td> 2</td><td>47.63261</td><td>High</td></tr>\n",
       "\t<tr><td>0.1000000</td><td>6.525971</td><td> 8</td><td> 7</td><td>48.81984</td><td>Low </td></tr>\n",
       "\t<tr><td>0.1000000</td><td>4.831416</td><td> 7</td><td> 6</td><td>34.57717</td><td>Low </td></tr>\n",
       "\t<tr><td>1.5942812</td><td>6.380352</td><td> 5</td><td>10</td><td>48.04854</td><td>Low </td></tr>\n",
       "\t<tr><td>0.4679222</td><td>5.536163</td><td> 7</td><td> 3</td><td>50.44842</td><td>Low </td></tr>\n",
       "\t<tr><td>3.7856183</td><td>6.399419</td><td> 3</td><td> 5</td><td>48.58181</td><td>High</td></tr>\n",
       "\t<tr><td>0.7299398</td><td>5.465719</td><td> 2</td><td> 5</td><td>38.36155</td><td>Low </td></tr>\n",
       "\t<tr><td>0.1000000</td><td>4.736583</td><td> 6</td><td> 7</td><td>39.98770</td><td>Low </td></tr>\n",
       "\t<tr><td>6.6641219</td><td>4.860720</td><td> 2</td><td> 4</td><td>41.16369</td><td>High</td></tr>\n",
       "\t<tr><td>2.4355592</td><td>6.033659</td><td> 3</td><td> 3</td><td>50.45393</td><td>Low </td></tr>\n",
       "\t<tr><td>3.1688205</td><td>6.181806</td><td> 6</td><td> 7</td><td>49.45009</td><td>High</td></tr>\n",
       "\t<tr><td>3.0314810</td><td>5.366978</td><td> 5</td><td> 4</td><td>44.68285</td><td>Low </td></tr>\n",
       "\t<tr><td>1.6390432</td><td>6.447015</td><td> 8</td><td> 7</td><td>54.72965</td><td>Low </td></tr>\n",
       "\t<tr><td>3.2773065</td><td>4.836936</td><td> 9</td><td> 7</td><td>36.99487</td><td>High</td></tr>\n",
       "\t<tr><td>0.1225161</td><td>5.953744</td><td> 3</td><td> 5</td><td>44.31658</td><td>Low </td></tr>\n",
       "\t<tr><td>3.9392450</td><td>5.152289</td><td>10</td><td> 5</td><td>38.32955</td><td>High</td></tr>\n",
       "\t<tr><td>1.4984033</td><td>5.543715</td><td> 3</td><td> 4</td><td>43.14158</td><td>Low </td></tr>\n",
       "\t<tr><td>2.2707656</td><td>6.033179</td><td> 3</td><td> 5</td><td>50.81581</td><td>Low </td></tr>\n",
       "\t<tr><td>⋮</td><td>⋮</td><td>⋮</td><td>⋮</td><td>⋮</td><td>⋮</td></tr>\n",
       "\t<tr><td> 4.4413924</td><td>5.323117</td><td> 2</td><td> 6</td><td>40.92192</td><td>High</td></tr>\n",
       "\t<tr><td> 3.7781254</td><td>5.966602</td><td> 4</td><td>10</td><td>48.11627</td><td>High</td></tr>\n",
       "\t<tr><td>10.6972020</td><td>5.997478</td><td> 2</td><td> 6</td><td>43.73456</td><td>High</td></tr>\n",
       "\t<tr><td> 5.7989373</td><td>5.189145</td><td>10</td><td> 5</td><td>38.26848</td><td>High</td></tr>\n",
       "\t<tr><td> 2.6802060</td><td>7.052379</td><td> 9</td><td> 3</td><td>57.01217</td><td>Low </td></tr>\n",
       "\t<tr><td> 0.6111489</td><td>6.614154</td><td> 2</td><td> 5</td><td>53.64298</td><td>Low </td></tr>\n",
       "\t<tr><td> 0.1000000</td><td>5.845325</td><td> 9</td><td> 3</td><td>47.50130</td><td>Low </td></tr>\n",
       "\t<tr><td> 3.5086591</td><td>6.018820</td><td> 6</td><td> 6</td><td>47.35166</td><td>High</td></tr>\n",
       "\t<tr><td> 1.1091231</td><td>6.145868</td><td> 1</td><td> 5</td><td>42.04289</td><td>Low </td></tr>\n",
       "\t<tr><td> 0.1000000</td><td>4.570786</td><td> 4</td><td> 1</td><td>36.80831</td><td>Low </td></tr>\n",
       "\t<tr><td> 1.3835678</td><td>5.826976</td><td> 1</td><td> 5</td><td>46.92429</td><td>Low </td></tr>\n",
       "\t<tr><td> 0.2961300</td><td>5.522611</td><td> 6</td><td> 7</td><td>42.32144</td><td>Low </td></tr>\n",
       "\t<tr><td> 7.2178541</td><td>5.298866</td><td> 4</td><td> 4</td><td>40.31083</td><td>High</td></tr>\n",
       "\t<tr><td> 5.2040994</td><td>5.803230</td><td> 3</td><td> 4</td><td>49.23366</td><td>High</td></tr>\n",
       "\t<tr><td> 2.9800684</td><td>7.258381</td><td> 3</td><td> 2</td><td>55.65794</td><td>Low </td></tr>\n",
       "\t<tr><td> 6.6998603</td><td>6.448590</td><td> 9</td><td> 1</td><td>51.27712</td><td>High</td></tr>\n",
       "\t<tr><td> 3.1934208</td><td>5.600175</td><td> 6</td><td> 7</td><td>46.13655</td><td>High</td></tr>\n",
       "\t<tr><td> 0.8467895</td><td>6.400808</td><td> 9</td><td> 5</td><td>47.30206</td><td>Low </td></tr>\n",
       "\t<tr><td> 6.8078102</td><td>6.979549</td><td> 5</td><td> 7</td><td>54.33986</td><td>High</td></tr>\n",
       "\t<tr><td> 4.3472751</td><td>6.647244</td><td> 2</td><td> 8</td><td>54.82982</td><td>High</td></tr>\n",
       "\t<tr><td> 3.0314810</td><td>6.041741</td><td> 8</td><td> 7</td><td>51.84025</td><td>Low </td></tr>\n",
       "\t<tr><td> 2.5241533</td><td>5.547144</td><td> 5</td><td> 4</td><td>43.92985</td><td>Low </td></tr>\n",
       "\t<tr><td> 0.8109544</td><td>6.488756</td><td> 2</td><td> 5</td><td>49.82644</td><td>Low </td></tr>\n",
       "\t<tr><td> 0.1000000</td><td>6.275440</td><td> 4</td><td> 4</td><td>49.60064</td><td>Low </td></tr>\n",
       "\t<tr><td> 5.3154439</td><td>6.626635</td><td> 9</td><td> 4</td><td>51.99554</td><td>High</td></tr>\n",
       "\t<tr><td> 3.0314810</td><td>6.444620</td><td> 4</td><td> 6</td><td>53.57924</td><td>Low </td></tr>\n",
       "\t<tr><td> 0.1000000</td><td>6.734687</td><td> 4</td><td> 3</td><td>49.65183</td><td>Low </td></tr>\n",
       "\t<tr><td> 4.4074231</td><td>5.625335</td><td> 2</td><td> 1</td><td>43.67766</td><td>High</td></tr>\n",
       "\t<tr><td> 1.3733936</td><td>6.922176</td><td> 6</td><td> 3</td><td>50.66238</td><td>Low </td></tr>\n",
       "\t<tr><td> 1.7821865</td><td>6.138320</td><td> 2</td><td> 4</td><td>45.43800</td><td>Low </td></tr>\n",
       "</tbody>\n",
       "</table>\n"
      ],
      "text/latex": [
       "A data.frame: 506 × 6\n",
       "\\begin{tabular}{llllll}\n",
       " Crime.Rate & Average.Rooms & Public.Transport.Access & Number.of.Schools & Median.Home.Value & Crime.Category\\\\\n",
       " <dbl> & <dbl> & <int> & <int> & <dbl> & <chr>\\\\\n",
       "\\hline\n",
       "\t 3.0314810 & 5.585324 & 10 &  3 & 47.90077 & Low \\\\\n",
       "\t 2.6543392 & 5.395206 &  3 &  6 & 41.53910 & Low \\\\\n",
       "\t 4.6192213 & 6.033965 &  9 &  4 & 48.51757 & High\\\\\n",
       "\t 6.8075746 & 5.418335 & 10 &  5 & 42.50757 & High\\\\\n",
       "\t 2.4146166 & 6.189320 &  2 &  4 & 51.39125 & Low \\\\\n",
       "\t 2.4146576 & 5.964833 &  6 &  4 & 49.64657 & Low \\\\\n",
       "\t 6.9480320 & 5.832736 &  7 &  4 & 48.76959 & High\\\\\n",
       "\t 4.9185868 & 5.364705 &  9 &  4 & 38.21798 & High\\\\\n",
       "\t 1.8263140 & 5.596260 &  3 &  6 & 44.69063 & Low \\\\\n",
       "\t 3.0314810 & 6.528774 & 10 &  4 & 52.59876 & Low \\\\\n",
       "\t 1.8414558 & 6.350642 &  3 &  5 & 50.40834 & Low \\\\\n",
       "\t 1.8356756 & 5.315711 &  7 &  4 & 43.80147 & Low \\\\\n",
       "\t 3.6049057 & 6.069533 &  4 &  2 & 47.63261 & High\\\\\n",
       "\t 0.1000000 & 6.525971 &  8 &  7 & 48.81984 & Low \\\\\n",
       "\t 0.1000000 & 4.831416 &  7 &  6 & 34.57717 & Low \\\\\n",
       "\t 1.5942812 & 6.380352 &  5 & 10 & 48.04854 & Low \\\\\n",
       "\t 0.4679222 & 5.536163 &  7 &  3 & 50.44842 & Low \\\\\n",
       "\t 3.7856183 & 6.399419 &  3 &  5 & 48.58181 & High\\\\\n",
       "\t 0.7299398 & 5.465719 &  2 &  5 & 38.36155 & Low \\\\\n",
       "\t 0.1000000 & 4.736583 &  6 &  7 & 39.98770 & Low \\\\\n",
       "\t 6.6641219 & 4.860720 &  2 &  4 & 41.16369 & High\\\\\n",
       "\t 2.4355592 & 6.033659 &  3 &  3 & 50.45393 & Low \\\\\n",
       "\t 3.1688205 & 6.181806 &  6 &  7 & 49.45009 & High\\\\\n",
       "\t 3.0314810 & 5.366978 &  5 &  4 & 44.68285 & Low \\\\\n",
       "\t 1.6390432 & 6.447015 &  8 &  7 & 54.72965 & Low \\\\\n",
       "\t 3.2773065 & 4.836936 &  9 &  7 & 36.99487 & High\\\\\n",
       "\t 0.1225161 & 5.953744 &  3 &  5 & 44.31658 & Low \\\\\n",
       "\t 3.9392450 & 5.152289 & 10 &  5 & 38.32955 & High\\\\\n",
       "\t 1.4984033 & 5.543715 &  3 &  4 & 43.14158 & Low \\\\\n",
       "\t 2.2707656 & 6.033179 &  3 &  5 & 50.81581 & Low \\\\\n",
       "\t ⋮ & ⋮ & ⋮ & ⋮ & ⋮ & ⋮\\\\\n",
       "\t  4.4413924 & 5.323117 &  2 &  6 & 40.92192 & High\\\\\n",
       "\t  3.7781254 & 5.966602 &  4 & 10 & 48.11627 & High\\\\\n",
       "\t 10.6972020 & 5.997478 &  2 &  6 & 43.73456 & High\\\\\n",
       "\t  5.7989373 & 5.189145 & 10 &  5 & 38.26848 & High\\\\\n",
       "\t  2.6802060 & 7.052379 &  9 &  3 & 57.01217 & Low \\\\\n",
       "\t  0.6111489 & 6.614154 &  2 &  5 & 53.64298 & Low \\\\\n",
       "\t  0.1000000 & 5.845325 &  9 &  3 & 47.50130 & Low \\\\\n",
       "\t  3.5086591 & 6.018820 &  6 &  6 & 47.35166 & High\\\\\n",
       "\t  1.1091231 & 6.145868 &  1 &  5 & 42.04289 & Low \\\\\n",
       "\t  0.1000000 & 4.570786 &  4 &  1 & 36.80831 & Low \\\\\n",
       "\t  1.3835678 & 5.826976 &  1 &  5 & 46.92429 & Low \\\\\n",
       "\t  0.2961300 & 5.522611 &  6 &  7 & 42.32144 & Low \\\\\n",
       "\t  7.2178541 & 5.298866 &  4 &  4 & 40.31083 & High\\\\\n",
       "\t  5.2040994 & 5.803230 &  3 &  4 & 49.23366 & High\\\\\n",
       "\t  2.9800684 & 7.258381 &  3 &  2 & 55.65794 & Low \\\\\n",
       "\t  6.6998603 & 6.448590 &  9 &  1 & 51.27712 & High\\\\\n",
       "\t  3.1934208 & 5.600175 &  6 &  7 & 46.13655 & High\\\\\n",
       "\t  0.8467895 & 6.400808 &  9 &  5 & 47.30206 & Low \\\\\n",
       "\t  6.8078102 & 6.979549 &  5 &  7 & 54.33986 & High\\\\\n",
       "\t  4.3472751 & 6.647244 &  2 &  8 & 54.82982 & High\\\\\n",
       "\t  3.0314810 & 6.041741 &  8 &  7 & 51.84025 & Low \\\\\n",
       "\t  2.5241533 & 5.547144 &  5 &  4 & 43.92985 & Low \\\\\n",
       "\t  0.8109544 & 6.488756 &  2 &  5 & 49.82644 & Low \\\\\n",
       "\t  0.1000000 & 6.275440 &  4 &  4 & 49.60064 & Low \\\\\n",
       "\t  5.3154439 & 6.626635 &  9 &  4 & 51.99554 & High\\\\\n",
       "\t  3.0314810 & 6.444620 &  4 &  6 & 53.57924 & Low \\\\\n",
       "\t  0.1000000 & 6.734687 &  4 &  3 & 49.65183 & Low \\\\\n",
       "\t  4.4074231 & 5.625335 &  2 &  1 & 43.67766 & High\\\\\n",
       "\t  1.3733936 & 6.922176 &  6 &  3 & 50.66238 & Low \\\\\n",
       "\t  1.7821865 & 6.138320 &  2 &  4 & 45.43800 & Low \\\\\n",
       "\\end{tabular}\n"
      ],
      "text/markdown": [
       "\n",
       "A data.frame: 506 × 6\n",
       "\n",
       "| Crime.Rate &lt;dbl&gt; | Average.Rooms &lt;dbl&gt; | Public.Transport.Access &lt;int&gt; | Number.of.Schools &lt;int&gt; | Median.Home.Value &lt;dbl&gt; | Crime.Category &lt;chr&gt; |\n",
       "|---|---|---|---|---|---|\n",
       "| 3.0314810 | 5.585324 | 10 |  3 | 47.90077 | Low  |\n",
       "| 2.6543392 | 5.395206 |  3 |  6 | 41.53910 | Low  |\n",
       "| 4.6192213 | 6.033965 |  9 |  4 | 48.51757 | High |\n",
       "| 6.8075746 | 5.418335 | 10 |  5 | 42.50757 | High |\n",
       "| 2.4146166 | 6.189320 |  2 |  4 | 51.39125 | Low  |\n",
       "| 2.4146576 | 5.964833 |  6 |  4 | 49.64657 | Low  |\n",
       "| 6.9480320 | 5.832736 |  7 |  4 | 48.76959 | High |\n",
       "| 4.9185868 | 5.364705 |  9 |  4 | 38.21798 | High |\n",
       "| 1.8263140 | 5.596260 |  3 |  6 | 44.69063 | Low  |\n",
       "| 3.0314810 | 6.528774 | 10 |  4 | 52.59876 | Low  |\n",
       "| 1.8414558 | 6.350642 |  3 |  5 | 50.40834 | Low  |\n",
       "| 1.8356756 | 5.315711 |  7 |  4 | 43.80147 | Low  |\n",
       "| 3.6049057 | 6.069533 |  4 |  2 | 47.63261 | High |\n",
       "| 0.1000000 | 6.525971 |  8 |  7 | 48.81984 | Low  |\n",
       "| 0.1000000 | 4.831416 |  7 |  6 | 34.57717 | Low  |\n",
       "| 1.5942812 | 6.380352 |  5 | 10 | 48.04854 | Low  |\n",
       "| 0.4679222 | 5.536163 |  7 |  3 | 50.44842 | Low  |\n",
       "| 3.7856183 | 6.399419 |  3 |  5 | 48.58181 | High |\n",
       "| 0.7299398 | 5.465719 |  2 |  5 | 38.36155 | Low  |\n",
       "| 0.1000000 | 4.736583 |  6 |  7 | 39.98770 | Low  |\n",
       "| 6.6641219 | 4.860720 |  2 |  4 | 41.16369 | High |\n",
       "| 2.4355592 | 6.033659 |  3 |  3 | 50.45393 | Low  |\n",
       "| 3.1688205 | 6.181806 |  6 |  7 | 49.45009 | High |\n",
       "| 3.0314810 | 5.366978 |  5 |  4 | 44.68285 | Low  |\n",
       "| 1.6390432 | 6.447015 |  8 |  7 | 54.72965 | Low  |\n",
       "| 3.2773065 | 4.836936 |  9 |  7 | 36.99487 | High |\n",
       "| 0.1225161 | 5.953744 |  3 |  5 | 44.31658 | Low  |\n",
       "| 3.9392450 | 5.152289 | 10 |  5 | 38.32955 | High |\n",
       "| 1.4984033 | 5.543715 |  3 |  4 | 43.14158 | Low  |\n",
       "| 2.2707656 | 6.033179 |  3 |  5 | 50.81581 | Low  |\n",
       "| ⋮ | ⋮ | ⋮ | ⋮ | ⋮ | ⋮ |\n",
       "|  4.4413924 | 5.323117 |  2 |  6 | 40.92192 | High |\n",
       "|  3.7781254 | 5.966602 |  4 | 10 | 48.11627 | High |\n",
       "| 10.6972020 | 5.997478 |  2 |  6 | 43.73456 | High |\n",
       "|  5.7989373 | 5.189145 | 10 |  5 | 38.26848 | High |\n",
       "|  2.6802060 | 7.052379 |  9 |  3 | 57.01217 | Low  |\n",
       "|  0.6111489 | 6.614154 |  2 |  5 | 53.64298 | Low  |\n",
       "|  0.1000000 | 5.845325 |  9 |  3 | 47.50130 | Low  |\n",
       "|  3.5086591 | 6.018820 |  6 |  6 | 47.35166 | High |\n",
       "|  1.1091231 | 6.145868 |  1 |  5 | 42.04289 | Low  |\n",
       "|  0.1000000 | 4.570786 |  4 |  1 | 36.80831 | Low  |\n",
       "|  1.3835678 | 5.826976 |  1 |  5 | 46.92429 | Low  |\n",
       "|  0.2961300 | 5.522611 |  6 |  7 | 42.32144 | Low  |\n",
       "|  7.2178541 | 5.298866 |  4 |  4 | 40.31083 | High |\n",
       "|  5.2040994 | 5.803230 |  3 |  4 | 49.23366 | High |\n",
       "|  2.9800684 | 7.258381 |  3 |  2 | 55.65794 | Low  |\n",
       "|  6.6998603 | 6.448590 |  9 |  1 | 51.27712 | High |\n",
       "|  3.1934208 | 5.600175 |  6 |  7 | 46.13655 | High |\n",
       "|  0.8467895 | 6.400808 |  9 |  5 | 47.30206 | Low  |\n",
       "|  6.8078102 | 6.979549 |  5 |  7 | 54.33986 | High |\n",
       "|  4.3472751 | 6.647244 |  2 |  8 | 54.82982 | High |\n",
       "|  3.0314810 | 6.041741 |  8 |  7 | 51.84025 | Low  |\n",
       "|  2.5241533 | 5.547144 |  5 |  4 | 43.92985 | Low  |\n",
       "|  0.8109544 | 6.488756 |  2 |  5 | 49.82644 | Low  |\n",
       "|  0.1000000 | 6.275440 |  4 |  4 | 49.60064 | Low  |\n",
       "|  5.3154439 | 6.626635 |  9 |  4 | 51.99554 | High |\n",
       "|  3.0314810 | 6.444620 |  4 |  6 | 53.57924 | Low  |\n",
       "|  0.1000000 | 6.734687 |  4 |  3 | 49.65183 | Low  |\n",
       "|  4.4074231 | 5.625335 |  2 |  1 | 43.67766 | High |\n",
       "|  1.3733936 | 6.922176 |  6 |  3 | 50.66238 | Low  |\n",
       "|  1.7821865 | 6.138320 |  2 |  4 | 45.43800 | Low  |\n",
       "\n"
      ],
      "text/plain": [
       "    Crime.Rate Average.Rooms Public.Transport.Access Number.of.Schools\n",
       "1   3.0314810  5.585324      10                       3               \n",
       "2   2.6543392  5.395206       3                       6               \n",
       "3   4.6192213  6.033965       9                       4               \n",
       "4   6.8075746  5.418335      10                       5               \n",
       "5   2.4146166  6.189320       2                       4               \n",
       "6   2.4146576  5.964833       6                       4               \n",
       "7   6.9480320  5.832736       7                       4               \n",
       "8   4.9185868  5.364705       9                       4               \n",
       "9   1.8263140  5.596260       3                       6               \n",
       "10  3.0314810  6.528774      10                       4               \n",
       "11  1.8414558  6.350642       3                       5               \n",
       "12  1.8356756  5.315711       7                       4               \n",
       "13  3.6049057  6.069533       4                       2               \n",
       "14  0.1000000  6.525971       8                       7               \n",
       "15  0.1000000  4.831416       7                       6               \n",
       "16  1.5942812  6.380352       5                      10               \n",
       "17  0.4679222  5.536163       7                       3               \n",
       "18  3.7856183  6.399419       3                       5               \n",
       "19  0.7299398  5.465719       2                       5               \n",
       "20  0.1000000  4.736583       6                       7               \n",
       "21  6.6641219  4.860720       2                       4               \n",
       "22  2.4355592  6.033659       3                       3               \n",
       "23  3.1688205  6.181806       6                       7               \n",
       "24  3.0314810  5.366978       5                       4               \n",
       "25  1.6390432  6.447015       8                       7               \n",
       "26  3.2773065  4.836936       9                       7               \n",
       "27  0.1225161  5.953744       3                       5               \n",
       "28  3.9392450  5.152289      10                       5               \n",
       "29  1.4984033  5.543715       3                       4               \n",
       "30  2.2707656  6.033179       3                       5               \n",
       "⋮   ⋮          ⋮             ⋮                       ⋮                \n",
       "477  4.4413924 5.323117       2                       6               \n",
       "478  3.7781254 5.966602       4                      10               \n",
       "479 10.6972020 5.997478       2                       6               \n",
       "480  5.7989373 5.189145      10                       5               \n",
       "481  2.6802060 7.052379       9                       3               \n",
       "482  0.6111489 6.614154       2                       5               \n",
       "483  0.1000000 5.845325       9                       3               \n",
       "484  3.5086591 6.018820       6                       6               \n",
       "485  1.1091231 6.145868       1                       5               \n",
       "486  0.1000000 4.570786       4                       1               \n",
       "487  1.3835678 5.826976       1                       5               \n",
       "488  0.2961300 5.522611       6                       7               \n",
       "489  7.2178541 5.298866       4                       4               \n",
       "490  5.2040994 5.803230       3                       4               \n",
       "491  2.9800684 7.258381       3                       2               \n",
       "492  6.6998603 6.448590       9                       1               \n",
       "493  3.1934208 5.600175       6                       7               \n",
       "494  0.8467895 6.400808       9                       5               \n",
       "495  6.8078102 6.979549       5                       7               \n",
       "496  4.3472751 6.647244       2                       8               \n",
       "497  3.0314810 6.041741       8                       7               \n",
       "498  2.5241533 5.547144       5                       4               \n",
       "499  0.8109544 6.488756       2                       5               \n",
       "500  0.1000000 6.275440       4                       4               \n",
       "501  5.3154439 6.626635       9                       4               \n",
       "502  3.0314810 6.444620       4                       6               \n",
       "503  0.1000000 6.734687       4                       3               \n",
       "504  4.4074231 5.625335       2                       1               \n",
       "505  1.3733936 6.922176       6                       3               \n",
       "506  1.7821865 6.138320       2                       4               \n",
       "    Median.Home.Value Crime.Category\n",
       "1   47.90077          Low           \n",
       "2   41.53910          Low           \n",
       "3   48.51757          High          \n",
       "4   42.50757          High          \n",
       "5   51.39125          Low           \n",
       "6   49.64657          Low           \n",
       "7   48.76959          High          \n",
       "8   38.21798          High          \n",
       "9   44.69063          Low           \n",
       "10  52.59876          Low           \n",
       "11  50.40834          Low           \n",
       "12  43.80147          Low           \n",
       "13  47.63261          High          \n",
       "14  48.81984          Low           \n",
       "15  34.57717          Low           \n",
       "16  48.04854          Low           \n",
       "17  50.44842          Low           \n",
       "18  48.58181          High          \n",
       "19  38.36155          Low           \n",
       "20  39.98770          Low           \n",
       "21  41.16369          High          \n",
       "22  50.45393          Low           \n",
       "23  49.45009          High          \n",
       "24  44.68285          Low           \n",
       "25  54.72965          Low           \n",
       "26  36.99487          High          \n",
       "27  44.31658          Low           \n",
       "28  38.32955          High          \n",
       "29  43.14158          Low           \n",
       "30  50.81581          Low           \n",
       "⋮   ⋮                 ⋮             \n",
       "477 40.92192          High          \n",
       "478 48.11627          High          \n",
       "479 43.73456          High          \n",
       "480 38.26848          High          \n",
       "481 57.01217          Low           \n",
       "482 53.64298          Low           \n",
       "483 47.50130          Low           \n",
       "484 47.35166          High          \n",
       "485 42.04289          Low           \n",
       "486 36.80831          Low           \n",
       "487 46.92429          Low           \n",
       "488 42.32144          Low           \n",
       "489 40.31083          High          \n",
       "490 49.23366          High          \n",
       "491 55.65794          Low           \n",
       "492 51.27712          High          \n",
       "493 46.13655          High          \n",
       "494 47.30206          Low           \n",
       "495 54.33986          High          \n",
       "496 54.82982          High          \n",
       "497 51.84025          Low           \n",
       "498 43.92985          Low           \n",
       "499 49.82644          Low           \n",
       "500 49.60064          Low           \n",
       "501 51.99554          High          \n",
       "502 53.57924          Low           \n",
       "503 49.65183          Low           \n",
       "504 43.67766          High          \n",
       "505 50.66238          Low           \n",
       "506 45.43800          Low           "
      ]
     },
     "metadata": {},
     "output_type": "display_data"
    }
   ],
   "source": [
    "data_cleaned$Crime.Category <- sapply(data_cleaned$Crime.Rate, high_low_crimerate)\n",
    "data_cleaned"
   ]
  },
  {
   "cell_type": "markdown",
   "metadata": {},
   "source": [
    "## 2. Check for assumptions\n",
    "\n",
    "We will now determine if there's a statistically significant difference in the median home values of areas with high crime rates compared to areas with low crime rates.\n",
    "- **Null Hypothesis (H0​):** The median home values are the same for areas with high and low crime rates.\n",
    "- **Alternative Hypothesis (H1​):** The median home values differ for areas with high crime rates compared to areas with low crime rates."
   ]
  },
  {
   "cell_type": "code",
   "execution_count": 20,
   "metadata": {
    "vscode": {
     "languageId": "r"
    }
   },
   "outputs": [
    {
     "name": "stderr",
     "output_type": "stream",
     "text": [
      "Warning message in leveneTest.default(y = y, group = group, ...):\n",
      "\"group coerced to factor.\"\n"
     ]
    },
    {
     "name": "stdout",
     "output_type": "stream",
     "text": [
      "Levene's Test for Homogeneity of Variance (center = median)\n",
      "       Df F value Pr(>F)\n",
      "group   1  1.9312 0.1652\n",
      "      504               \n",
      "\n",
      "------------------------------------------\n"
     ]
    },
    {
     "data": {
      "text/plain": [
       "\n",
       "\tTwo Sample t-test\n",
       "\n",
       "data:  Median.Home.Value by Crime.Category\n",
       "t = 1.2257, df = 504, p-value = 0.2209\n",
       "alternative hypothesis: true difference in means between group High and group Low is not equal to 0\n",
       "95 percent confidence interval:\n",
       " -0.3609864  1.5583767\n",
       "sample estimates:\n",
       "mean in group High  mean in group Low \n",
       "          47.41829           46.81959 \n"
      ]
     },
     "metadata": {},
     "output_type": "display_data"
    }
   ],
   "source": [
    "levene_test <- leveneTest(Median.Home.Value ~ Crime.Category, data = data_cleaned)\n",
    "print(levene_test)\n",
    "cat(\"\\n------------------------------------------\\n\")\n",
    "t_test_result <- t.test(Median.Home.Value ~ Crime.Category, data = data_cleaned, var.equal = TRUE)\n",
    "t_test_result"
   ]
  },
  {
   "cell_type": "markdown",
   "metadata": {},
   "source": [
    "P-Value is 0.2209, which is greater than 0.05 so we **fail to reject** the null hypothesis and conclude that there is no significant difference"
   ]
  },
  {
   "cell_type": "markdown",
   "metadata": {},
   "source": [
    "# Part 4 - Linear regression\n",
    "## for predicting the median home value with the average rooms variable"
   ]
  },
  {
   "cell_type": "code",
   "execution_count": 21,
   "metadata": {
    "vscode": {
     "languageId": "r"
    }
   },
   "outputs": [
    {
     "data": {
      "text/html": [
       "<table class=\"dataframe\">\n",
       "<caption>A data.frame: 6 × 6</caption>\n",
       "<thead>\n",
       "\t<tr><th></th><th scope=col>Crime.Rate</th><th scope=col>Average.Rooms</th><th scope=col>Public.Transport.Access</th><th scope=col>Number.of.Schools</th><th scope=col>Median.Home.Value</th><th scope=col>Crime.Category</th></tr>\n",
       "\t<tr><th></th><th scope=col>&lt;dbl&gt;</th><th scope=col>&lt;dbl&gt;</th><th scope=col>&lt;int&gt;</th><th scope=col>&lt;int&gt;</th><th scope=col>&lt;dbl&gt;</th><th scope=col>&lt;chr&gt;</th></tr>\n",
       "</thead>\n",
       "<tbody>\n",
       "\t<tr><th scope=row>1</th><td>3.031481</td><td>5.585324</td><td>10</td><td>3</td><td>47.90077</td><td>Low </td></tr>\n",
       "\t<tr><th scope=row>2</th><td>2.654339</td><td>5.395206</td><td> 3</td><td>6</td><td>41.53910</td><td>Low </td></tr>\n",
       "\t<tr><th scope=row>3</th><td>4.619221</td><td>6.033965</td><td> 9</td><td>4</td><td>48.51757</td><td>High</td></tr>\n",
       "\t<tr><th scope=row>4</th><td>6.807575</td><td>5.418335</td><td>10</td><td>5</td><td>42.50757</td><td>High</td></tr>\n",
       "\t<tr><th scope=row>5</th><td>2.414617</td><td>6.189320</td><td> 2</td><td>4</td><td>51.39125</td><td>Low </td></tr>\n",
       "\t<tr><th scope=row>6</th><td>2.414658</td><td>5.964833</td><td> 6</td><td>4</td><td>49.64657</td><td>Low </td></tr>\n",
       "</tbody>\n",
       "</table>\n"
      ],
      "text/latex": [
       "A data.frame: 6 × 6\n",
       "\\begin{tabular}{r|llllll}\n",
       "  & Crime.Rate & Average.Rooms & Public.Transport.Access & Number.of.Schools & Median.Home.Value & Crime.Category\\\\\n",
       "  & <dbl> & <dbl> & <int> & <int> & <dbl> & <chr>\\\\\n",
       "\\hline\n",
       "\t1 & 3.031481 & 5.585324 & 10 & 3 & 47.90077 & Low \\\\\n",
       "\t2 & 2.654339 & 5.395206 &  3 & 6 & 41.53910 & Low \\\\\n",
       "\t3 & 4.619221 & 6.033965 &  9 & 4 & 48.51757 & High\\\\\n",
       "\t4 & 6.807575 & 5.418335 & 10 & 5 & 42.50757 & High\\\\\n",
       "\t5 & 2.414617 & 6.189320 &  2 & 4 & 51.39125 & Low \\\\\n",
       "\t6 & 2.414658 & 5.964833 &  6 & 4 & 49.64657 & Low \\\\\n",
       "\\end{tabular}\n"
      ],
      "text/markdown": [
       "\n",
       "A data.frame: 6 × 6\n",
       "\n",
       "| <!--/--> | Crime.Rate &lt;dbl&gt; | Average.Rooms &lt;dbl&gt; | Public.Transport.Access &lt;int&gt; | Number.of.Schools &lt;int&gt; | Median.Home.Value &lt;dbl&gt; | Crime.Category &lt;chr&gt; |\n",
       "|---|---|---|---|---|---|---|\n",
       "| 1 | 3.031481 | 5.585324 | 10 | 3 | 47.90077 | Low  |\n",
       "| 2 | 2.654339 | 5.395206 |  3 | 6 | 41.53910 | Low  |\n",
       "| 3 | 4.619221 | 6.033965 |  9 | 4 | 48.51757 | High |\n",
       "| 4 | 6.807575 | 5.418335 | 10 | 5 | 42.50757 | High |\n",
       "| 5 | 2.414617 | 6.189320 |  2 | 4 | 51.39125 | Low  |\n",
       "| 6 | 2.414658 | 5.964833 |  6 | 4 | 49.64657 | Low  |\n",
       "\n"
      ],
      "text/plain": [
       "  Crime.Rate Average.Rooms Public.Transport.Access Number.of.Schools\n",
       "1 3.031481   5.585324      10                      3                \n",
       "2 2.654339   5.395206       3                      6                \n",
       "3 4.619221   6.033965       9                      4                \n",
       "4 6.807575   5.418335      10                      5                \n",
       "5 2.414617   6.189320       2                      4                \n",
       "6 2.414658   5.964833       6                      4                \n",
       "  Median.Home.Value Crime.Category\n",
       "1 47.90077          Low           \n",
       "2 41.53910          Low           \n",
       "3 48.51757          High          \n",
       "4 42.50757          High          \n",
       "5 51.39125          Low           \n",
       "6 49.64657          Low           "
      ]
     },
     "metadata": {},
     "output_type": "display_data"
    }
   ],
   "source": [
    "head(data_cleaned)"
   ]
  },
  {
   "cell_type": "code",
   "execution_count": 22,
   "metadata": {
    "vscode": {
     "languageId": "r"
    }
   },
   "outputs": [
    {
     "name": "stderr",
     "output_type": "stream",
     "text": [
      "\u001b[1m\u001b[22m`geom_smooth()` using formula = 'y ~ x'\n"
     ]
    },
    {
     "data": {
      "image/png": "[encoded data removed]",
      "text/plain": [
       "plot without title"
      ]
     },
     "metadata": {
      "image/png": {
       "height": 420,
       "width": 420
      }
     },
     "output_type": "display_data"
    }
   ],
   "source": [
    "ggplot(data_cleaned, aes(x = Average.Rooms, y = Median.Home.Value )) +\n",
    "    geom_point(alpha=0.6) +\n",
    "    geom_smooth(method=\"lm\", col=\"red\", se=FALSE) +\n",
    "    labs(title = \"Regression Scatter Plot of Average Rooms vs Median Home Value\",\n",
    "             x = \" Average Rooms\",\n",
    "             y = \" Median Home Value\") +\n",
    "    theme_minimal()\n"
   ]
  },
  {
   "cell_type": "code",
   "execution_count": 23,
   "metadata": {
    "vscode": {
     "languageId": "r"
    }
   },
   "outputs": [
    {
     "data": {
      "text/plain": [
       "\n",
       "Call:\n",
       "lm(formula = Median.Home.Value ~ Average.Rooms, data = data_cleaned)\n",
       "\n",
       "Residuals:\n",
       "    Min      1Q  Median      3Q     Max \n",
       "-8.6212 -1.6873  0.0096  1.7347 13.9495 \n",
       "\n",
       "Coefficients:\n",
       "              Estimate Std. Error t value Pr(>|t|)    \n",
       "(Intercept)     3.7854     1.0944   3.459 0.000588 ***\n",
       "Average.Rooms   7.1886     0.1805  39.823  < 2e-16 ***\n",
       "---\n",
       "Signif. codes:  0 '***' 0.001 '**' 0.01 '*' 0.05 '.' 0.1 ' ' 1\n",
       "\n",
       "Residual standard error: 2.698 on 504 degrees of freedom\n",
       "Multiple R-squared:  0.7588,\tAdjusted R-squared:  0.7584 \n",
       "F-statistic:  1586 on 1 and 504 DF,  p-value: < 2.2e-16\n"
      ]
     },
     "metadata": {},
     "output_type": "display_data"
    }
   ],
   "source": [
    "model <- lm(Median.Home.Value ~ Average.Rooms, data = data_cleaned)\n",
    "summary(model)"
   ]
  },
  {
   "cell_type": "code",
   "execution_count": 24,
   "metadata": {
    "vscode": {
     "languageId": "r"
    }
   },
   "outputs": [
    {
     "data": {
      "text/html": [
       "0.758832427116037"
      ],
      "text/latex": [
       "0.758832427116037"
      ],
      "text/markdown": [
       "0.758832427116037"
      ],
      "text/plain": [
       "[1] 0.7588324"
      ]
     },
     "metadata": {},
     "output_type": "display_data"
    }
   ],
   "source": [
    "summary(model)$r.squared"
   ]
  },
  {
   "cell_type": "code",
   "execution_count": 25,
   "metadata": {
    "vscode": {
     "languageId": "r"
    }
   },
   "outputs": [
    {
     "data": {
      "text/html": [
       "<style>\n",
       ".dl-inline {width: auto; margin:0; padding: 0}\n",
       ".dl-inline>dt, .dl-inline>dd {float: none; width: auto; display: inline-block}\n",
       ".dl-inline>dt::after {content: \":\\0020\"; padding-right: .5ex}\n",
       ".dl-inline>dt:not(:first-of-type) {padding-left: .5ex}\n",
       "</style><dl class=dl-inline><dt>(Intercept)</dt><dd>0.000588247245995367</dd><dt>Average.Rooms</dt><dd>9.00596109176457e-158</dd></dl>\n"
      ],
      "text/latex": [
       "\\begin{description*}\n",
       "\\item[(Intercept)] 0.000588247245995367\n",
       "\\item[Average.Rooms] 9.00596109176457e-158\n",
       "\\end{description*}\n"
      ],
      "text/markdown": [
       "(Intercept)\n",
       ":   0.000588247245995367Average.Rooms\n",
       ":   9.00596109176457e-158\n",
       "\n"
      ],
      "text/plain": [
       "  (Intercept) Average.Rooms \n",
       " 5.882472e-04 9.005961e-158 "
      ]
     },
     "metadata": {},
     "output_type": "display_data"
    }
   ],
   "source": [
    "summary(model)$coefficients[, 4]"
   ]
  },
  {
   "cell_type": "code",
   "execution_count": 26,
   "metadata": {
    "vscode": {
     "languageId": "r"
    }
   },
   "outputs": [
    {
     "data": {
      "text/html": [
       "<style>\n",
       ".list-inline {list-style: none; margin:0; padding: 0}\n",
       ".list-inline>li {display: inline-block}\n",
       ".list-inline>li:not(:last-child)::after {content: \"\\00b7\"; padding: 0 .5ex}\n",
       "</style>\n",
       "<ol class=list-inline><li>5.315443869</li><li>3.031481002</li><li>0.1</li><li>4.407423092</li><li>1.373393577</li><li>1.782186541</li></ol>\n"
      ],
      "text/latex": [
       "\\begin{enumerate*}\n",
       "\\item 5.315443869\n",
       "\\item 3.031481002\n",
       "\\item 0.1\n",
       "\\item 4.407423092\n",
       "\\item 1.373393577\n",
       "\\item 1.782186541\n",
       "\\end{enumerate*}\n"
      ],
      "text/markdown": [
       "1. 5.315443869\n",
       "2. 3.031481002\n",
       "3. 0.1\n",
       "4. 4.407423092\n",
       "5. 1.373393577\n",
       "6. 1.782186541\n",
       "\n",
       "\n"
      ],
      "text/plain": [
       "[1] 5.315444 3.031481 0.100000 4.407423 1.373394 1.782187"
      ]
     },
     "metadata": {},
     "output_type": "display_data"
    }
   ],
   "source": [
    "tail(data_cleaned[, 1])"
   ]
  },
  {
   "cell_type": "markdown",
   "metadata": {},
   "source": []
  }
 ],
 "metadata": {
  "kernelspec": {
   "display_name": "R",
   "language": "R",
   "name": "ir"
  },
  "language_info": {
   "codemirror_mode": "r",
   "file_extension": ".r",
   "mimetype": "text/x-r-source",
   "name": "R",
   "pygments_lexer": "r",
   "version": "4.3.2"
  }
 },
 "nbformat": 4,
 "nbformat_minor": 2
}
